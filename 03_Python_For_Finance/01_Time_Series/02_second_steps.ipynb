{
 "cells": [
  {
   "cell_type": "code",
   "execution_count": 1,
   "metadata": {},
   "outputs": [],
   "source": [
    "import numpy as np\n",
    "import pandas as pd\n",
    "import matplotlib.pyplot as plt"
   ]
  },
  {
   "cell_type": "code",
   "execution_count": 2,
   "metadata": {},
   "outputs": [
    {
     "data": {
      "text/plain": [
       "array([[-0.489305, -0.330986,  0.275545,  0.277922],\n",
       "       [ 2.02805 ,  0.947807, -1.608649, -1.424541],\n",
       "       [-0.301291, -0.599919, -1.273237,  1.963788],\n",
       "       [ 0.866547, -0.633495, -2.540534,  0.200113],\n",
       "       [-0.899767,  2.244477, -0.556656,  0.703101],\n",
       "       [-1.427889,  1.378286, -1.008237,  0.252333],\n",
       "       [ 0.660979, -1.672573,  0.470407,  0.620744],\n",
       "       [-0.32905 , -0.116273,  0.672777, -0.430742],\n",
       "       [-1.293918,  0.287717, -0.597264,  0.364303]])"
      ]
     },
     "execution_count": 2,
     "metadata": {},
     "output_type": "execute_result"
    }
   ],
   "source": [
    "a = np.random.standard_normal((9,4))\n",
    "a.round(6) # round to 6 decimal places"
   ]
  },
  {
   "cell_type": "code",
   "execution_count": 3,
   "metadata": {},
   "outputs": [
    {
     "data": {
      "text/html": [
       "<div>\n",
       "<style>\n",
       "    .dataframe thead tr:only-child th {\n",
       "        text-align: right;\n",
       "    }\n",
       "\n",
       "    .dataframe thead th {\n",
       "        text-align: left;\n",
       "    }\n",
       "\n",
       "    .dataframe tbody tr th {\n",
       "        vertical-align: top;\n",
       "    }\n",
       "</style>\n",
       "<table border=\"1\" class=\"dataframe\">\n",
       "  <thead>\n",
       "    <tr style=\"text-align: right;\">\n",
       "      <th></th>\n",
       "      <th>0</th>\n",
       "      <th>1</th>\n",
       "      <th>2</th>\n",
       "      <th>3</th>\n",
       "    </tr>\n",
       "  </thead>\n",
       "  <tbody>\n",
       "    <tr>\n",
       "      <th>0</th>\n",
       "      <td>-0.489305</td>\n",
       "      <td>-0.330986</td>\n",
       "      <td>0.275545</td>\n",
       "      <td>0.277922</td>\n",
       "    </tr>\n",
       "    <tr>\n",
       "      <th>1</th>\n",
       "      <td>2.028050</td>\n",
       "      <td>0.947807</td>\n",
       "      <td>-1.608649</td>\n",
       "      <td>-1.424541</td>\n",
       "    </tr>\n",
       "    <tr>\n",
       "      <th>2</th>\n",
       "      <td>-0.301291</td>\n",
       "      <td>-0.599919</td>\n",
       "      <td>-1.273237</td>\n",
       "      <td>1.963788</td>\n",
       "    </tr>\n",
       "    <tr>\n",
       "      <th>3</th>\n",
       "      <td>0.866547</td>\n",
       "      <td>-0.633495</td>\n",
       "      <td>-2.540534</td>\n",
       "      <td>0.200113</td>\n",
       "    </tr>\n",
       "    <tr>\n",
       "      <th>4</th>\n",
       "      <td>-0.899767</td>\n",
       "      <td>2.244477</td>\n",
       "      <td>-0.556656</td>\n",
       "      <td>0.703101</td>\n",
       "    </tr>\n",
       "    <tr>\n",
       "      <th>5</th>\n",
       "      <td>-1.427889</td>\n",
       "      <td>1.378286</td>\n",
       "      <td>-1.008237</td>\n",
       "      <td>0.252333</td>\n",
       "    </tr>\n",
       "    <tr>\n",
       "      <th>6</th>\n",
       "      <td>0.660979</td>\n",
       "      <td>-1.672573</td>\n",
       "      <td>0.470407</td>\n",
       "      <td>0.620744</td>\n",
       "    </tr>\n",
       "    <tr>\n",
       "      <th>7</th>\n",
       "      <td>-0.329050</td>\n",
       "      <td>-0.116273</td>\n",
       "      <td>0.672777</td>\n",
       "      <td>-0.430742</td>\n",
       "    </tr>\n",
       "    <tr>\n",
       "      <th>8</th>\n",
       "      <td>-1.293918</td>\n",
       "      <td>0.287717</td>\n",
       "      <td>-0.597264</td>\n",
       "      <td>0.364303</td>\n",
       "    </tr>\n",
       "  </tbody>\n",
       "</table>\n",
       "</div>"
      ],
      "text/plain": [
       "          0         1         2         3\n",
       "0 -0.489305 -0.330986  0.275545  0.277922\n",
       "1  2.028050  0.947807 -1.608649 -1.424541\n",
       "2 -0.301291 -0.599919 -1.273237  1.963788\n",
       "3  0.866547 -0.633495 -2.540534  0.200113\n",
       "4 -0.899767  2.244477 -0.556656  0.703101\n",
       "5 -1.427889  1.378286 -1.008237  0.252333\n",
       "6  0.660979 -1.672573  0.470407  0.620744\n",
       "7 -0.329050 -0.116273  0.672777 -0.430742\n",
       "8 -1.293918  0.287717 -0.597264  0.364303"
      ]
     },
     "execution_count": 3,
     "metadata": {},
     "output_type": "execute_result"
    }
   ],
   "source": [
    "# pandas will only add meta-information when generated from numpy arrays\n",
    "# meta-information -> index values etc.\n",
    "df = pd.DataFrame(a)\n",
    "df"
   ]
  },
  {
   "cell_type": "code",
   "execution_count": 4,
   "metadata": {},
   "outputs": [
    {
     "data": {
      "text/html": [
       "<div>\n",
       "<style>\n",
       "    .dataframe thead tr:only-child th {\n",
       "        text-align: right;\n",
       "    }\n",
       "\n",
       "    .dataframe thead th {\n",
       "        text-align: left;\n",
       "    }\n",
       "\n",
       "    .dataframe tbody tr th {\n",
       "        vertical-align: top;\n",
       "    }\n",
       "</style>\n",
       "<table border=\"1\" class=\"dataframe\">\n",
       "  <thead>\n",
       "    <tr style=\"text-align: right;\">\n",
       "      <th></th>\n",
       "      <th>No1</th>\n",
       "      <th>No2</th>\n",
       "      <th>No3</th>\n",
       "      <th>No4</th>\n",
       "    </tr>\n",
       "  </thead>\n",
       "  <tbody>\n",
       "    <tr>\n",
       "      <th>0</th>\n",
       "      <td>-0.489305</td>\n",
       "      <td>-0.330986</td>\n",
       "      <td>0.275545</td>\n",
       "      <td>0.277922</td>\n",
       "    </tr>\n",
       "    <tr>\n",
       "      <th>1</th>\n",
       "      <td>2.028050</td>\n",
       "      <td>0.947807</td>\n",
       "      <td>-1.608649</td>\n",
       "      <td>-1.424541</td>\n",
       "    </tr>\n",
       "    <tr>\n",
       "      <th>2</th>\n",
       "      <td>-0.301291</td>\n",
       "      <td>-0.599919</td>\n",
       "      <td>-1.273237</td>\n",
       "      <td>1.963788</td>\n",
       "    </tr>\n",
       "    <tr>\n",
       "      <th>3</th>\n",
       "      <td>0.866547</td>\n",
       "      <td>-0.633495</td>\n",
       "      <td>-2.540534</td>\n",
       "      <td>0.200113</td>\n",
       "    </tr>\n",
       "    <tr>\n",
       "      <th>4</th>\n",
       "      <td>-0.899767</td>\n",
       "      <td>2.244477</td>\n",
       "      <td>-0.556656</td>\n",
       "      <td>0.703101</td>\n",
       "    </tr>\n",
       "    <tr>\n",
       "      <th>5</th>\n",
       "      <td>-1.427889</td>\n",
       "      <td>1.378286</td>\n",
       "      <td>-1.008237</td>\n",
       "      <td>0.252333</td>\n",
       "    </tr>\n",
       "    <tr>\n",
       "      <th>6</th>\n",
       "      <td>0.660979</td>\n",
       "      <td>-1.672573</td>\n",
       "      <td>0.470407</td>\n",
       "      <td>0.620744</td>\n",
       "    </tr>\n",
       "    <tr>\n",
       "      <th>7</th>\n",
       "      <td>-0.329050</td>\n",
       "      <td>-0.116273</td>\n",
       "      <td>0.672777</td>\n",
       "      <td>-0.430742</td>\n",
       "    </tr>\n",
       "    <tr>\n",
       "      <th>8</th>\n",
       "      <td>-1.293918</td>\n",
       "      <td>0.287717</td>\n",
       "      <td>-0.597264</td>\n",
       "      <td>0.364303</td>\n",
       "    </tr>\n",
       "  </tbody>\n",
       "</table>\n",
       "</div>"
      ],
      "text/plain": [
       "        No1       No2       No3       No4\n",
       "0 -0.489305 -0.330986  0.275545  0.277922\n",
       "1  2.028050  0.947807 -1.608649 -1.424541\n",
       "2 -0.301291 -0.599919 -1.273237  1.963788\n",
       "3  0.866547 -0.633495 -2.540534  0.200113\n",
       "4 -0.899767  2.244477 -0.556656  0.703101\n",
       "5 -1.427889  1.378286 -1.008237  0.252333\n",
       "6  0.660979 -1.672573  0.470407  0.620744\n",
       "7 -0.329050 -0.116273  0.672777 -0.430742\n",
       "8 -1.293918  0.287717 -0.597264  0.364303"
      ]
     },
     "execution_count": 4,
     "metadata": {},
     "output_type": "execute_result"
    }
   ],
   "source": [
    "df.columns = [['No1', 'No2', 'No3', 'No4']]\n",
    "df"
   ]
  },
  {
   "cell_type": "code",
   "execution_count": 5,
   "metadata": {},
   "outputs": [
    {
     "data": {
      "text/plain": [
       "-0.6334953554640704"
      ]
     },
     "execution_count": 5,
     "metadata": {},
     "output_type": "execute_result"
    }
   ],
   "source": [
    "df['No2'][3] #reach using index and column name"
   ]
  },
  {
   "cell_type": "code",
   "execution_count": 6,
   "metadata": {},
   "outputs": [
    {
     "data": {
      "text/plain": [
       "DatetimeIndex(['2015-01-31', '2015-02-28', '2015-03-31', '2015-04-30',\n",
       "               '2015-05-31', '2015-06-30', '2015-07-31', '2015-08-31',\n",
       "               '2015-09-30'],\n",
       "              dtype='datetime64[ns]', freq='M')"
      ]
     },
     "execution_count": 6,
     "metadata": {},
     "output_type": "execute_result"
    }
   ],
   "source": [
    "dates = pd.date_range('2015-1-1', periods=9, freq='M')\n",
    "dates"
   ]
  },
  {
   "cell_type": "code",
   "execution_count": 7,
   "metadata": {},
   "outputs": [
    {
     "data": {
      "text/html": [
       "<div>\n",
       "<style>\n",
       "    .dataframe thead tr:only-child th {\n",
       "        text-align: right;\n",
       "    }\n",
       "\n",
       "    .dataframe thead th {\n",
       "        text-align: left;\n",
       "    }\n",
       "\n",
       "    .dataframe tbody tr th {\n",
       "        vertical-align: top;\n",
       "    }\n",
       "</style>\n",
       "<table border=\"1\" class=\"dataframe\">\n",
       "  <thead>\n",
       "    <tr style=\"text-align: right;\">\n",
       "      <th></th>\n",
       "      <th>No1</th>\n",
       "      <th>No2</th>\n",
       "      <th>No3</th>\n",
       "      <th>No4</th>\n",
       "    </tr>\n",
       "  </thead>\n",
       "  <tbody>\n",
       "    <tr>\n",
       "      <th>2015-01-31</th>\n",
       "      <td>-0.489305</td>\n",
       "      <td>-0.330986</td>\n",
       "      <td>0.275545</td>\n",
       "      <td>0.277922</td>\n",
       "    </tr>\n",
       "    <tr>\n",
       "      <th>2015-02-28</th>\n",
       "      <td>2.028050</td>\n",
       "      <td>0.947807</td>\n",
       "      <td>-1.608649</td>\n",
       "      <td>-1.424541</td>\n",
       "    </tr>\n",
       "    <tr>\n",
       "      <th>2015-03-31</th>\n",
       "      <td>-0.301291</td>\n",
       "      <td>-0.599919</td>\n",
       "      <td>-1.273237</td>\n",
       "      <td>1.963788</td>\n",
       "    </tr>\n",
       "    <tr>\n",
       "      <th>2015-04-30</th>\n",
       "      <td>0.866547</td>\n",
       "      <td>-0.633495</td>\n",
       "      <td>-2.540534</td>\n",
       "      <td>0.200113</td>\n",
       "    </tr>\n",
       "    <tr>\n",
       "      <th>2015-05-31</th>\n",
       "      <td>-0.899767</td>\n",
       "      <td>2.244477</td>\n",
       "      <td>-0.556656</td>\n",
       "      <td>0.703101</td>\n",
       "    </tr>\n",
       "    <tr>\n",
       "      <th>2015-06-30</th>\n",
       "      <td>-1.427889</td>\n",
       "      <td>1.378286</td>\n",
       "      <td>-1.008237</td>\n",
       "      <td>0.252333</td>\n",
       "    </tr>\n",
       "    <tr>\n",
       "      <th>2015-07-31</th>\n",
       "      <td>0.660979</td>\n",
       "      <td>-1.672573</td>\n",
       "      <td>0.470407</td>\n",
       "      <td>0.620744</td>\n",
       "    </tr>\n",
       "    <tr>\n",
       "      <th>2015-08-31</th>\n",
       "      <td>-0.329050</td>\n",
       "      <td>-0.116273</td>\n",
       "      <td>0.672777</td>\n",
       "      <td>-0.430742</td>\n",
       "    </tr>\n",
       "    <tr>\n",
       "      <th>2015-09-30</th>\n",
       "      <td>-1.293918</td>\n",
       "      <td>0.287717</td>\n",
       "      <td>-0.597264</td>\n",
       "      <td>0.364303</td>\n",
       "    </tr>\n",
       "  </tbody>\n",
       "</table>\n",
       "</div>"
      ],
      "text/plain": [
       "                 No1       No2       No3       No4\n",
       "2015-01-31 -0.489305 -0.330986  0.275545  0.277922\n",
       "2015-02-28  2.028050  0.947807 -1.608649 -1.424541\n",
       "2015-03-31 -0.301291 -0.599919 -1.273237  1.963788\n",
       "2015-04-30  0.866547 -0.633495 -2.540534  0.200113\n",
       "2015-05-31 -0.899767  2.244477 -0.556656  0.703101\n",
       "2015-06-30 -1.427889  1.378286 -1.008237  0.252333\n",
       "2015-07-31  0.660979 -1.672573  0.470407  0.620744\n",
       "2015-08-31 -0.329050 -0.116273  0.672777 -0.430742\n",
       "2015-09-30 -1.293918  0.287717 -0.597264  0.364303"
      ]
     },
     "execution_count": 7,
     "metadata": {},
     "output_type": "execute_result"
    }
   ],
   "source": [
    "df.index = dates\n",
    "df"
   ]
  },
  {
   "cell_type": "code",
   "execution_count": 8,
   "metadata": {},
   "outputs": [
    {
     "name": "stderr",
     "output_type": "stream",
     "text": [
      "/usr/local/lib/python2.7/dist-packages/ipykernel_launcher.py:2: RuntimeWarning: invalid value encountered in sqrt\n",
      "  \n"
     ]
    },
    {
     "data": {
      "text/html": [
       "<div>\n",
       "<style>\n",
       "    .dataframe thead tr:only-child th {\n",
       "        text-align: right;\n",
       "    }\n",
       "\n",
       "    .dataframe thead th {\n",
       "        text-align: left;\n",
       "    }\n",
       "\n",
       "    .dataframe tbody tr th {\n",
       "        vertical-align: top;\n",
       "    }\n",
       "</style>\n",
       "<table border=\"1\" class=\"dataframe\">\n",
       "  <thead>\n",
       "    <tr style=\"text-align: right;\">\n",
       "      <th></th>\n",
       "      <th>No1</th>\n",
       "      <th>No2</th>\n",
       "      <th>No3</th>\n",
       "      <th>No4</th>\n",
       "    </tr>\n",
       "  </thead>\n",
       "  <tbody>\n",
       "    <tr>\n",
       "      <th>2015-01-31</th>\n",
       "      <td>NaN</td>\n",
       "      <td>NaN</td>\n",
       "      <td>0.524923</td>\n",
       "      <td>0.527183</td>\n",
       "    </tr>\n",
       "    <tr>\n",
       "      <th>2015-02-28</th>\n",
       "      <td>1.424096</td>\n",
       "      <td>0.973554</td>\n",
       "      <td>NaN</td>\n",
       "      <td>NaN</td>\n",
       "    </tr>\n",
       "    <tr>\n",
       "      <th>2015-03-31</th>\n",
       "      <td>NaN</td>\n",
       "      <td>NaN</td>\n",
       "      <td>NaN</td>\n",
       "      <td>1.401352</td>\n",
       "    </tr>\n",
       "    <tr>\n",
       "      <th>2015-04-30</th>\n",
       "      <td>0.930885</td>\n",
       "      <td>NaN</td>\n",
       "      <td>NaN</td>\n",
       "      <td>0.447340</td>\n",
       "    </tr>\n",
       "    <tr>\n",
       "      <th>2015-05-31</th>\n",
       "      <td>NaN</td>\n",
       "      <td>1.498158</td>\n",
       "      <td>NaN</td>\n",
       "      <td>0.838511</td>\n",
       "    </tr>\n",
       "    <tr>\n",
       "      <th>2015-06-30</th>\n",
       "      <td>NaN</td>\n",
       "      <td>1.174004</td>\n",
       "      <td>NaN</td>\n",
       "      <td>0.502328</td>\n",
       "    </tr>\n",
       "    <tr>\n",
       "      <th>2015-07-31</th>\n",
       "      <td>0.813006</td>\n",
       "      <td>NaN</td>\n",
       "      <td>0.685862</td>\n",
       "      <td>0.787873</td>\n",
       "    </tr>\n",
       "    <tr>\n",
       "      <th>2015-08-31</th>\n",
       "      <td>NaN</td>\n",
       "      <td>NaN</td>\n",
       "      <td>0.820230</td>\n",
       "      <td>NaN</td>\n",
       "    </tr>\n",
       "    <tr>\n",
       "      <th>2015-09-30</th>\n",
       "      <td>NaN</td>\n",
       "      <td>0.536392</td>\n",
       "      <td>NaN</td>\n",
       "      <td>0.603575</td>\n",
       "    </tr>\n",
       "  </tbody>\n",
       "</table>\n",
       "</div>"
      ],
      "text/plain": [
       "                 No1       No2       No3       No4\n",
       "2015-01-31       NaN       NaN  0.524923  0.527183\n",
       "2015-02-28  1.424096  0.973554       NaN       NaN\n",
       "2015-03-31       NaN       NaN       NaN  1.401352\n",
       "2015-04-30  0.930885       NaN       NaN  0.447340\n",
       "2015-05-31       NaN  1.498158       NaN  0.838511\n",
       "2015-06-30       NaN  1.174004       NaN  0.502328\n",
       "2015-07-31  0.813006       NaN  0.685862  0.787873\n",
       "2015-08-31       NaN       NaN  0.820230       NaN\n",
       "2015-09-30       NaN  0.536392       NaN  0.603575"
      ]
     },
     "execution_count": 8,
     "metadata": {},
     "output_type": "execute_result"
    }
   ],
   "source": [
    "# we can use numpy functions for pandas DataFrame\n",
    "np.sqrt(df)"
   ]
  },
  {
   "cell_type": "code",
   "execution_count": 9,
   "metadata": {},
   "outputs": [
    {
     "name": "stderr",
     "output_type": "stream",
     "text": [
      "/usr/local/lib/python2.7/dist-packages/ipykernel_launcher.py:1: RuntimeWarning: invalid value encountered in sqrt\n",
      "  \"\"\"Entry point for launching an IPython kernel.\n"
     ]
    },
    {
     "data": {
      "text/plain": [
       "No1    3.167988\n",
       "No2    4.182108\n",
       "No3    2.031016\n",
       "No4    5.108162\n",
       "dtype: float64"
      ]
     },
     "execution_count": 9,
     "metadata": {},
     "output_type": "execute_result"
    }
   ],
   "source": [
    "np.sqrt(df).sum()"
   ]
  },
  {
   "cell_type": "code",
   "execution_count": 10,
   "metadata": {},
   "outputs": [
    {
     "data": {
      "text/plain": [
       "<matplotlib.axes._subplots.AxesSubplot at 0x7fd15f8e0710>"
      ]
     },
     "execution_count": 10,
     "metadata": {},
     "output_type": "execute_result"
    },
    {
     "data": {
      "image/png": "[encoded data removed]",
      "text/plain": [
       "<matplotlib.figure.Figure at 0x7fd15f8e0090>"
      ]
     },
     "metadata": {},
     "output_type": "display_data"
    }
   ],
   "source": [
    "%matplotlib inline\n",
    "df.cumsum().plot(lw=2.0)"
   ]
  },
  {
   "cell_type": "code",
   "execution_count": 11,
   "metadata": {},
   "outputs": [
    {
     "name": "stdout",
     "output_type": "stream",
     "text": [
      "2015-01-31   -0.489305\n",
      "2015-02-28    2.028050\n",
      "2015-03-31   -0.301291\n",
      "2015-04-30    0.866547\n",
      "2015-05-31   -0.899767\n",
      "2015-06-30   -1.427889\n",
      "2015-07-31    0.660979\n",
      "2015-08-31   -0.329050\n",
      "2015-09-30   -1.293918\n",
      "Freq: M, Name: No1, dtype: float64\n"
     ]
    },
    {
     "data": {
      "text/plain": [
       "pandas.core.series.Series"
      ]
     },
     "execution_count": 11,
     "metadata": {},
     "output_type": "execute_result"
    }
   ],
   "source": [
    "### SERIES CLASS\n",
    "print df['No1'] # a column is a Series class object\n",
    "type(df['No1'])"
   ]
  },
  {
   "cell_type": "code",
   "execution_count": 12,
   "metadata": {},
   "outputs": [
    {
     "data": {
      "text/plain": [
       "<matplotlib.text.Text at 0x7fd17c745250>"
      ]
     },
     "execution_count": 12,
     "metadata": {},
     "output_type": "execute_result"
    },
    {
     "data": {
      "image/png": "[encoded data removed]",
      "text/plain": [
       "<matplotlib.figure.Figure at 0x7fd17d0e5710>"
      ]
     },
     "metadata": {},
     "output_type": "display_data"
    }
   ],
   "source": [
    "df['No1'].cumsum().plot(style='r', lw=2)\n",
    "plt.xlabel('date')\n",
    "plt.ylabel('value')"
   ]
  },
  {
   "cell_type": "code",
   "execution_count": 13,
   "metadata": {},
   "outputs": [
    {
     "data": {
      "text/html": [
       "<div>\n",
       "<style>\n",
       "    .dataframe thead tr:only-child th {\n",
       "        text-align: right;\n",
       "    }\n",
       "\n",
       "    .dataframe thead th {\n",
       "        text-align: left;\n",
       "    }\n",
       "\n",
       "    .dataframe tbody tr th {\n",
       "        vertical-align: top;\n",
       "    }\n",
       "</style>\n",
       "<table border=\"1\" class=\"dataframe\">\n",
       "  <thead>\n",
       "    <tr style=\"text-align: right;\">\n",
       "      <th></th>\n",
       "      <th>No1</th>\n",
       "      <th>No2</th>\n",
       "      <th>No3</th>\n",
       "      <th>No4</th>\n",
       "      <th>Quarter</th>\n",
       "    </tr>\n",
       "  </thead>\n",
       "  <tbody>\n",
       "    <tr>\n",
       "      <th>2015-01-31</th>\n",
       "      <td>-0.489305</td>\n",
       "      <td>-0.330986</td>\n",
       "      <td>0.275545</td>\n",
       "      <td>0.277922</td>\n",
       "      <td>Q1</td>\n",
       "    </tr>\n",
       "    <tr>\n",
       "      <th>2015-02-28</th>\n",
       "      <td>2.028050</td>\n",
       "      <td>0.947807</td>\n",
       "      <td>-1.608649</td>\n",
       "      <td>-1.424541</td>\n",
       "      <td>Q1</td>\n",
       "    </tr>\n",
       "    <tr>\n",
       "      <th>2015-03-31</th>\n",
       "      <td>-0.301291</td>\n",
       "      <td>-0.599919</td>\n",
       "      <td>-1.273237</td>\n",
       "      <td>1.963788</td>\n",
       "      <td>Q1</td>\n",
       "    </tr>\n",
       "    <tr>\n",
       "      <th>2015-04-30</th>\n",
       "      <td>0.866547</td>\n",
       "      <td>-0.633495</td>\n",
       "      <td>-2.540534</td>\n",
       "      <td>0.200113</td>\n",
       "      <td>Q2</td>\n",
       "    </tr>\n",
       "    <tr>\n",
       "      <th>2015-05-31</th>\n",
       "      <td>-0.899767</td>\n",
       "      <td>2.244477</td>\n",
       "      <td>-0.556656</td>\n",
       "      <td>0.703101</td>\n",
       "      <td>Q2</td>\n",
       "    </tr>\n",
       "    <tr>\n",
       "      <th>2015-06-30</th>\n",
       "      <td>-1.427889</td>\n",
       "      <td>1.378286</td>\n",
       "      <td>-1.008237</td>\n",
       "      <td>0.252333</td>\n",
       "      <td>Q2</td>\n",
       "    </tr>\n",
       "    <tr>\n",
       "      <th>2015-07-31</th>\n",
       "      <td>0.660979</td>\n",
       "      <td>-1.672573</td>\n",
       "      <td>0.470407</td>\n",
       "      <td>0.620744</td>\n",
       "      <td>Q3</td>\n",
       "    </tr>\n",
       "    <tr>\n",
       "      <th>2015-08-31</th>\n",
       "      <td>-0.329050</td>\n",
       "      <td>-0.116273</td>\n",
       "      <td>0.672777</td>\n",
       "      <td>-0.430742</td>\n",
       "      <td>Q3</td>\n",
       "    </tr>\n",
       "    <tr>\n",
       "      <th>2015-09-30</th>\n",
       "      <td>-1.293918</td>\n",
       "      <td>0.287717</td>\n",
       "      <td>-0.597264</td>\n",
       "      <td>0.364303</td>\n",
       "      <td>Q3</td>\n",
       "    </tr>\n",
       "  </tbody>\n",
       "</table>\n",
       "</div>"
      ],
      "text/plain": [
       "                 No1       No2       No3       No4 Quarter\n",
       "2015-01-31 -0.489305 -0.330986  0.275545  0.277922      Q1\n",
       "2015-02-28  2.028050  0.947807 -1.608649 -1.424541      Q1\n",
       "2015-03-31 -0.301291 -0.599919 -1.273237  1.963788      Q1\n",
       "2015-04-30  0.866547 -0.633495 -2.540534  0.200113      Q2\n",
       "2015-05-31 -0.899767  2.244477 -0.556656  0.703101      Q2\n",
       "2015-06-30 -1.427889  1.378286 -1.008237  0.252333      Q2\n",
       "2015-07-31  0.660979 -1.672573  0.470407  0.620744      Q3\n",
       "2015-08-31 -0.329050 -0.116273  0.672777 -0.430742      Q3\n",
       "2015-09-30 -1.293918  0.287717 -0.597264  0.364303      Q3"
      ]
     },
     "execution_count": 13,
     "metadata": {},
     "output_type": "execute_result"
    }
   ],
   "source": [
    "### GroupBy operations\n",
    "df['Quarter'] = ['Q1', 'Q1', 'Q1', 'Q2', 'Q2', 'Q2', 'Q3', 'Q3', 'Q3']\n",
    "df"
   ]
  },
  {
   "cell_type": "code",
   "execution_count": 14,
   "metadata": {},
   "outputs": [
    {
     "data": {
      "text/html": [
       "<div>\n",
       "<style>\n",
       "    .dataframe thead tr:only-child th {\n",
       "        text-align: right;\n",
       "    }\n",
       "\n",
       "    .dataframe thead th {\n",
       "        text-align: left;\n",
       "    }\n",
       "\n",
       "    .dataframe tbody tr th {\n",
       "        vertical-align: top;\n",
       "    }\n",
       "</style>\n",
       "<table border=\"1\" class=\"dataframe\">\n",
       "  <thead>\n",
       "    <tr style=\"text-align: right;\">\n",
       "      <th></th>\n",
       "      <th>No1</th>\n",
       "      <th>No2</th>\n",
       "      <th>No3</th>\n",
       "      <th>No4</th>\n",
       "    </tr>\n",
       "    <tr>\n",
       "      <th>Quarter</th>\n",
       "      <th></th>\n",
       "      <th></th>\n",
       "      <th></th>\n",
       "      <th></th>\n",
       "    </tr>\n",
       "  </thead>\n",
       "  <tbody>\n",
       "    <tr>\n",
       "      <th>Q1</th>\n",
       "      <td>0.412485</td>\n",
       "      <td>0.005634</td>\n",
       "      <td>-0.868781</td>\n",
       "      <td>0.272390</td>\n",
       "    </tr>\n",
       "    <tr>\n",
       "      <th>Q2</th>\n",
       "      <td>-0.487036</td>\n",
       "      <td>0.996422</td>\n",
       "      <td>-1.368475</td>\n",
       "      <td>0.385182</td>\n",
       "    </tr>\n",
       "    <tr>\n",
       "      <th>Q3</th>\n",
       "      <td>-0.320663</td>\n",
       "      <td>-0.500376</td>\n",
       "      <td>0.181974</td>\n",
       "      <td>0.184768</td>\n",
       "    </tr>\n",
       "  </tbody>\n",
       "</table>\n",
       "</div>"
      ],
      "text/plain": [
       "              No1       No2       No3       No4\n",
       "Quarter                                        \n",
       "Q1       0.412485  0.005634 -0.868781  0.272390\n",
       "Q2      -0.487036  0.996422 -1.368475  0.385182\n",
       "Q3      -0.320663 -0.500376  0.181974  0.184768"
      ]
     },
     "execution_count": 14,
     "metadata": {},
     "output_type": "execute_result"
    }
   ],
   "source": [
    "# let's group by quarters\n",
    "groups = df.groupby('Quarter')\n",
    "groups.mean()"
   ]
  },
  {
   "cell_type": "code",
   "execution_count": 15,
   "metadata": {},
   "outputs": [
    {
     "name": "stdout",
     "output_type": "stream",
     "text": [
      "              No1       No2       No3       No4\n",
      "Quarter                                        \n",
      "Q1       2.028050  0.947807  0.275545  1.963788\n",
      "Q2       0.866547  2.244477 -0.556656  0.703101\n",
      "Q3       0.660979  0.287717  0.672777  0.620744\n"
     ]
    },
    {
     "data": {
      "text/plain": [
       "Quarter\n",
       "Q1    3\n",
       "Q2    3\n",
       "Q3    3\n",
       "dtype: int64"
      ]
     },
     "execution_count": 15,
     "metadata": {},
     "output_type": "execute_result"
    }
   ],
   "source": [
    "print groups.max()\n",
    "groups.size()"
   ]
  },
  {
   "cell_type": "code",
   "execution_count": 16,
   "metadata": {},
   "outputs": [
    {
     "data": {
      "text/html": [
       "<div>\n",
       "<style>\n",
       "    .dataframe thead tr:only-child th {\n",
       "        text-align: right;\n",
       "    }\n",
       "\n",
       "    .dataframe thead th {\n",
       "        text-align: left;\n",
       "    }\n",
       "\n",
       "    .dataframe tbody tr th {\n",
       "        vertical-align: top;\n",
       "    }\n",
       "</style>\n",
       "<table border=\"1\" class=\"dataframe\">\n",
       "  <thead>\n",
       "    <tr style=\"text-align: right;\">\n",
       "      <th></th>\n",
       "      <th>No1</th>\n",
       "      <th>No2</th>\n",
       "      <th>No3</th>\n",
       "      <th>No4</th>\n",
       "      <th>Quarter</th>\n",
       "      <th>Odd_Even</th>\n",
       "    </tr>\n",
       "  </thead>\n",
       "  <tbody>\n",
       "    <tr>\n",
       "      <th>2015-01-31</th>\n",
       "      <td>-0.489305</td>\n",
       "      <td>-0.330986</td>\n",
       "      <td>0.275545</td>\n",
       "      <td>0.277922</td>\n",
       "      <td>Q1</td>\n",
       "      <td>Odd</td>\n",
       "    </tr>\n",
       "    <tr>\n",
       "      <th>2015-02-28</th>\n",
       "      <td>2.028050</td>\n",
       "      <td>0.947807</td>\n",
       "      <td>-1.608649</td>\n",
       "      <td>-1.424541</td>\n",
       "      <td>Q1</td>\n",
       "      <td>Even</td>\n",
       "    </tr>\n",
       "    <tr>\n",
       "      <th>2015-03-31</th>\n",
       "      <td>-0.301291</td>\n",
       "      <td>-0.599919</td>\n",
       "      <td>-1.273237</td>\n",
       "      <td>1.963788</td>\n",
       "      <td>Q1</td>\n",
       "      <td>Odd</td>\n",
       "    </tr>\n",
       "    <tr>\n",
       "      <th>2015-04-30</th>\n",
       "      <td>0.866547</td>\n",
       "      <td>-0.633495</td>\n",
       "      <td>-2.540534</td>\n",
       "      <td>0.200113</td>\n",
       "      <td>Q2</td>\n",
       "      <td>Even</td>\n",
       "    </tr>\n",
       "    <tr>\n",
       "      <th>2015-05-31</th>\n",
       "      <td>-0.899767</td>\n",
       "      <td>2.244477</td>\n",
       "      <td>-0.556656</td>\n",
       "      <td>0.703101</td>\n",
       "      <td>Q2</td>\n",
       "      <td>Odd</td>\n",
       "    </tr>\n",
       "    <tr>\n",
       "      <th>2015-06-30</th>\n",
       "      <td>-1.427889</td>\n",
       "      <td>1.378286</td>\n",
       "      <td>-1.008237</td>\n",
       "      <td>0.252333</td>\n",
       "      <td>Q2</td>\n",
       "      <td>Even</td>\n",
       "    </tr>\n",
       "    <tr>\n",
       "      <th>2015-07-31</th>\n",
       "      <td>0.660979</td>\n",
       "      <td>-1.672573</td>\n",
       "      <td>0.470407</td>\n",
       "      <td>0.620744</td>\n",
       "      <td>Q3</td>\n",
       "      <td>Odd</td>\n",
       "    </tr>\n",
       "    <tr>\n",
       "      <th>2015-08-31</th>\n",
       "      <td>-0.329050</td>\n",
       "      <td>-0.116273</td>\n",
       "      <td>0.672777</td>\n",
       "      <td>-0.430742</td>\n",
       "      <td>Q3</td>\n",
       "      <td>Even</td>\n",
       "    </tr>\n",
       "    <tr>\n",
       "      <th>2015-09-30</th>\n",
       "      <td>-1.293918</td>\n",
       "      <td>0.287717</td>\n",
       "      <td>-0.597264</td>\n",
       "      <td>0.364303</td>\n",
       "      <td>Q3</td>\n",
       "      <td>Odd</td>\n",
       "    </tr>\n",
       "  </tbody>\n",
       "</table>\n",
       "</div>"
      ],
      "text/plain": [
       "                 No1       No2       No3       No4 Quarter Odd_Even\n",
       "2015-01-31 -0.489305 -0.330986  0.275545  0.277922      Q1      Odd\n",
       "2015-02-28  2.028050  0.947807 -1.608649 -1.424541      Q1     Even\n",
       "2015-03-31 -0.301291 -0.599919 -1.273237  1.963788      Q1      Odd\n",
       "2015-04-30  0.866547 -0.633495 -2.540534  0.200113      Q2     Even\n",
       "2015-05-31 -0.899767  2.244477 -0.556656  0.703101      Q2      Odd\n",
       "2015-06-30 -1.427889  1.378286 -1.008237  0.252333      Q2     Even\n",
       "2015-07-31  0.660979 -1.672573  0.470407  0.620744      Q3      Odd\n",
       "2015-08-31 -0.329050 -0.116273  0.672777 -0.430742      Q3     Even\n",
       "2015-09-30 -1.293918  0.287717 -0.597264  0.364303      Q3      Odd"
      ]
     },
     "execution_count": 16,
     "metadata": {},
     "output_type": "execute_result"
    }
   ],
   "source": [
    "df['Odd_Even'] = ['Odd', 'Even', 'Odd', 'Even', 'Odd', 'Even', 'Odd', 'Even', 'Odd']\n",
    "df"
   ]
  },
  {
   "cell_type": "code",
   "execution_count": 17,
   "metadata": {},
   "outputs": [
    {
     "data": {
      "text/plain": [
       "Quarter  Odd_Even\n",
       "Q1       Even        1\n",
       "         Odd         2\n",
       "Q2       Even        2\n",
       "         Odd         1\n",
       "Q3       Even        1\n",
       "         Odd         2\n",
       "dtype: int64"
      ]
     },
     "execution_count": 17,
     "metadata": {},
     "output_type": "execute_result"
    }
   ],
   "source": [
    "groups = df.groupby(['Quarter', 'Odd_Even'])\n",
    "groups.size()"
   ]
  },
  {
   "cell_type": "code",
   "execution_count": 18,
   "metadata": {},
   "outputs": [
    {
     "data": {
      "text/html": [
       "<div>\n",
       "<style>\n",
       "    .dataframe thead tr:only-child th {\n",
       "        text-align: right;\n",
       "    }\n",
       "\n",
       "    .dataframe thead th {\n",
       "        text-align: left;\n",
       "    }\n",
       "\n",
       "    .dataframe tbody tr th {\n",
       "        vertical-align: top;\n",
       "    }\n",
       "</style>\n",
       "<table border=\"1\" class=\"dataframe\">\n",
       "  <thead>\n",
       "    <tr style=\"text-align: right;\">\n",
       "      <th></th>\n",
       "      <th></th>\n",
       "      <th>No1</th>\n",
       "      <th>No2</th>\n",
       "      <th>No3</th>\n",
       "      <th>No4</th>\n",
       "    </tr>\n",
       "    <tr>\n",
       "      <th>Quarter</th>\n",
       "      <th>Odd_Even</th>\n",
       "      <th></th>\n",
       "      <th></th>\n",
       "      <th></th>\n",
       "      <th></th>\n",
       "    </tr>\n",
       "  </thead>\n",
       "  <tbody>\n",
       "    <tr>\n",
       "      <th rowspan=\"2\" valign=\"top\">Q1</th>\n",
       "      <th>Even</th>\n",
       "      <td>2.028050</td>\n",
       "      <td>0.947807</td>\n",
       "      <td>-1.608649</td>\n",
       "      <td>-1.424541</td>\n",
       "    </tr>\n",
       "    <tr>\n",
       "      <th>Odd</th>\n",
       "      <td>-0.395298</td>\n",
       "      <td>-0.465453</td>\n",
       "      <td>-0.498846</td>\n",
       "      <td>1.120855</td>\n",
       "    </tr>\n",
       "    <tr>\n",
       "      <th rowspan=\"2\" valign=\"top\">Q2</th>\n",
       "      <th>Even</th>\n",
       "      <td>-0.280671</td>\n",
       "      <td>0.372395</td>\n",
       "      <td>-1.774385</td>\n",
       "      <td>0.226223</td>\n",
       "    </tr>\n",
       "    <tr>\n",
       "      <th>Odd</th>\n",
       "      <td>-0.899767</td>\n",
       "      <td>2.244477</td>\n",
       "      <td>-0.556656</td>\n",
       "      <td>0.703101</td>\n",
       "    </tr>\n",
       "    <tr>\n",
       "      <th rowspan=\"2\" valign=\"top\">Q3</th>\n",
       "      <th>Even</th>\n",
       "      <td>-0.329050</td>\n",
       "      <td>-0.116273</td>\n",
       "      <td>0.672777</td>\n",
       "      <td>-0.430742</td>\n",
       "    </tr>\n",
       "    <tr>\n",
       "      <th>Odd</th>\n",
       "      <td>-0.316470</td>\n",
       "      <td>-0.692428</td>\n",
       "      <td>-0.063428</td>\n",
       "      <td>0.492523</td>\n",
       "    </tr>\n",
       "  </tbody>\n",
       "</table>\n",
       "</div>"
      ],
      "text/plain": [
       "                       No1       No2       No3       No4\n",
       "Quarter Odd_Even                                        \n",
       "Q1      Even      2.028050  0.947807 -1.608649 -1.424541\n",
       "        Odd      -0.395298 -0.465453 -0.498846  1.120855\n",
       "Q2      Even     -0.280671  0.372395 -1.774385  0.226223\n",
       "        Odd      -0.899767  2.244477 -0.556656  0.703101\n",
       "Q3      Even     -0.329050 -0.116273  0.672777 -0.430742\n",
       "        Odd      -0.316470 -0.692428 -0.063428  0.492523"
      ]
     },
     "execution_count": 18,
     "metadata": {},
     "output_type": "execute_result"
    }
   ],
   "source": [
    "groups.mean()\n"
   ]
  },
  {
   "cell_type": "code",
   "execution_count": null,
   "metadata": {},
   "outputs": [],
   "source": []
  },
  {
   "cell_type": "code",
   "execution_count": null,
   "metadata": {},
   "outputs": [],
   "source": []
  },
  {
   "cell_type": "code",
   "execution_count": null,
   "metadata": {},
   "outputs": [],
   "source": []
  },
  {
   "cell_type": "code",
   "execution_count": null,
   "metadata": {},
   "outputs": [],
   "source": []
  }
 ],
 "metadata": {
  "kernelspec": {
   "display_name": "Python 2",
   "language": "python",
   "name": "python2"
  },
  "language_info": {
   "codemirror_mode": {
    "name": "ipython",
    "version": 2
   },
   "file_extension": ".py",
   "mimetype": "text/x-python",
   "name": "python",
   "nbconvert_exporter": "python",
   "pygments_lexer": "ipython2",
   "version": "2.7.12"
  }
 },
 "nbformat": 4,
 "nbformat_minor": 2
}
