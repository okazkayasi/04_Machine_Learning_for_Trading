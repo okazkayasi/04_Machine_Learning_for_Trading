{
 "cells": [
  {
   "cell_type": "code",
   "execution_count": 13,
   "metadata": {},
   "outputs": [],
   "source": [
    "import numpy as np\n",
    "import pandas as pd\n",
    "import matplotlib.pyplot as plt"
   ]
  },
  {
   "cell_type": "code",
   "execution_count": 4,
   "metadata": {},
   "outputs": [
    {
     "data": {
      "text/plain": [
       "array([[-0.708643, -0.52647 , -0.23394 ,  1.025148],\n",
       "       [-0.186126,  0.666079,  0.282509, -0.189091],\n",
       "       [-0.269858, -0.468455, -0.340585,  0.480711],\n",
       "       [-2.087208,  0.035884,  0.77453 ,  1.267295],\n",
       "       [-0.954654,  0.249311, -2.104319,  0.724493],\n",
       "       [ 0.190199, -0.335903, -0.642518, -0.120549],\n",
       "       [-0.734025, -3.028944,  0.333588,  0.392728],\n",
       "       [ 1.455715,  0.917871, -1.103893, -0.4432  ],\n",
       "       [ 2.633779, -0.079026,  0.675282, -0.81192 ]])"
      ]
     },
     "execution_count": 4,
     "metadata": {},
     "output_type": "execute_result"
    }
   ],
   "source": [
    "a = np.random.standard_normal((9,4))\n",
    "a.round(6) # round to 6 decimal places"
   ]
  },
  {
   "cell_type": "code",
   "execution_count": 5,
   "metadata": {},
   "outputs": [
    {
     "data": {
      "text/html": [
       "<div>\n",
       "<style>\n",
       "    .dataframe thead tr:only-child th {\n",
       "        text-align: right;\n",
       "    }\n",
       "\n",
       "    .dataframe thead th {\n",
       "        text-align: left;\n",
       "    }\n",
       "\n",
       "    .dataframe tbody tr th {\n",
       "        vertical-align: top;\n",
       "    }\n",
       "</style>\n",
       "<table border=\"1\" class=\"dataframe\">\n",
       "  <thead>\n",
       "    <tr style=\"text-align: right;\">\n",
       "      <th></th>\n",
       "      <th>0</th>\n",
       "      <th>1</th>\n",
       "      <th>2</th>\n",
       "      <th>3</th>\n",
       "    </tr>\n",
       "  </thead>\n",
       "  <tbody>\n",
       "    <tr>\n",
       "      <th>0</th>\n",
       "      <td>-0.708643</td>\n",
       "      <td>-0.526470</td>\n",
       "      <td>-0.233940</td>\n",
       "      <td>1.025148</td>\n",
       "    </tr>\n",
       "    <tr>\n",
       "      <th>1</th>\n",
       "      <td>-0.186126</td>\n",
       "      <td>0.666079</td>\n",
       "      <td>0.282509</td>\n",
       "      <td>-0.189091</td>\n",
       "    </tr>\n",
       "    <tr>\n",
       "      <th>2</th>\n",
       "      <td>-0.269858</td>\n",
       "      <td>-0.468455</td>\n",
       "      <td>-0.340585</td>\n",
       "      <td>0.480711</td>\n",
       "    </tr>\n",
       "    <tr>\n",
       "      <th>3</th>\n",
       "      <td>-2.087208</td>\n",
       "      <td>0.035884</td>\n",
       "      <td>0.774530</td>\n",
       "      <td>1.267295</td>\n",
       "    </tr>\n",
       "    <tr>\n",
       "      <th>4</th>\n",
       "      <td>-0.954654</td>\n",
       "      <td>0.249311</td>\n",
       "      <td>-2.104319</td>\n",
       "      <td>0.724493</td>\n",
       "    </tr>\n",
       "    <tr>\n",
       "      <th>5</th>\n",
       "      <td>0.190199</td>\n",
       "      <td>-0.335903</td>\n",
       "      <td>-0.642518</td>\n",
       "      <td>-0.120549</td>\n",
       "    </tr>\n",
       "    <tr>\n",
       "      <th>6</th>\n",
       "      <td>-0.734025</td>\n",
       "      <td>-3.028944</td>\n",
       "      <td>0.333588</td>\n",
       "      <td>0.392728</td>\n",
       "    </tr>\n",
       "    <tr>\n",
       "      <th>7</th>\n",
       "      <td>1.455715</td>\n",
       "      <td>0.917871</td>\n",
       "      <td>-1.103893</td>\n",
       "      <td>-0.443200</td>\n",
       "    </tr>\n",
       "    <tr>\n",
       "      <th>8</th>\n",
       "      <td>2.633779</td>\n",
       "      <td>-0.079026</td>\n",
       "      <td>0.675282</td>\n",
       "      <td>-0.811920</td>\n",
       "    </tr>\n",
       "  </tbody>\n",
       "</table>\n",
       "</div>"
      ],
      "text/plain": [
       "          0         1         2         3\n",
       "0 -0.708643 -0.526470 -0.233940  1.025148\n",
       "1 -0.186126  0.666079  0.282509 -0.189091\n",
       "2 -0.269858 -0.468455 -0.340585  0.480711\n",
       "3 -2.087208  0.035884  0.774530  1.267295\n",
       "4 -0.954654  0.249311 -2.104319  0.724493\n",
       "5  0.190199 -0.335903 -0.642518 -0.120549\n",
       "6 -0.734025 -3.028944  0.333588  0.392728\n",
       "7  1.455715  0.917871 -1.103893 -0.443200\n",
       "8  2.633779 -0.079026  0.675282 -0.811920"
      ]
     },
     "execution_count": 5,
     "metadata": {},
     "output_type": "execute_result"
    }
   ],
   "source": [
    "# pandas will only add meta-information when generated from numpy arrays\n",
    "# meta-information -> index values etc.\n",
    "df = pd.DataFrame(a)\n",
    "df"
   ]
  },
  {
   "cell_type": "code",
   "execution_count": 6,
   "metadata": {},
   "outputs": [
    {
     "data": {
      "text/html": [
       "<div>\n",
       "<style>\n",
       "    .dataframe thead tr:only-child th {\n",
       "        text-align: right;\n",
       "    }\n",
       "\n",
       "    .dataframe thead th {\n",
       "        text-align: left;\n",
       "    }\n",
       "\n",
       "    .dataframe tbody tr th {\n",
       "        vertical-align: top;\n",
       "    }\n",
       "</style>\n",
       "<table border=\"1\" class=\"dataframe\">\n",
       "  <thead>\n",
       "    <tr style=\"text-align: right;\">\n",
       "      <th></th>\n",
       "      <th>No1</th>\n",
       "      <th>No2</th>\n",
       "      <th>No3</th>\n",
       "      <th>No4</th>\n",
       "    </tr>\n",
       "  </thead>\n",
       "  <tbody>\n",
       "    <tr>\n",
       "      <th>0</th>\n",
       "      <td>-0.708643</td>\n",
       "      <td>-0.526470</td>\n",
       "      <td>-0.233940</td>\n",
       "      <td>1.025148</td>\n",
       "    </tr>\n",
       "    <tr>\n",
       "      <th>1</th>\n",
       "      <td>-0.186126</td>\n",
       "      <td>0.666079</td>\n",
       "      <td>0.282509</td>\n",
       "      <td>-0.189091</td>\n",
       "    </tr>\n",
       "    <tr>\n",
       "      <th>2</th>\n",
       "      <td>-0.269858</td>\n",
       "      <td>-0.468455</td>\n",
       "      <td>-0.340585</td>\n",
       "      <td>0.480711</td>\n",
       "    </tr>\n",
       "    <tr>\n",
       "      <th>3</th>\n",
       "      <td>-2.087208</td>\n",
       "      <td>0.035884</td>\n",
       "      <td>0.774530</td>\n",
       "      <td>1.267295</td>\n",
       "    </tr>\n",
       "    <tr>\n",
       "      <th>4</th>\n",
       "      <td>-0.954654</td>\n",
       "      <td>0.249311</td>\n",
       "      <td>-2.104319</td>\n",
       "      <td>0.724493</td>\n",
       "    </tr>\n",
       "    <tr>\n",
       "      <th>5</th>\n",
       "      <td>0.190199</td>\n",
       "      <td>-0.335903</td>\n",
       "      <td>-0.642518</td>\n",
       "      <td>-0.120549</td>\n",
       "    </tr>\n",
       "    <tr>\n",
       "      <th>6</th>\n",
       "      <td>-0.734025</td>\n",
       "      <td>-3.028944</td>\n",
       "      <td>0.333588</td>\n",
       "      <td>0.392728</td>\n",
       "    </tr>\n",
       "    <tr>\n",
       "      <th>7</th>\n",
       "      <td>1.455715</td>\n",
       "      <td>0.917871</td>\n",
       "      <td>-1.103893</td>\n",
       "      <td>-0.443200</td>\n",
       "    </tr>\n",
       "    <tr>\n",
       "      <th>8</th>\n",
       "      <td>2.633779</td>\n",
       "      <td>-0.079026</td>\n",
       "      <td>0.675282</td>\n",
       "      <td>-0.811920</td>\n",
       "    </tr>\n",
       "  </tbody>\n",
       "</table>\n",
       "</div>"
      ],
      "text/plain": [
       "        No1       No2       No3       No4\n",
       "0 -0.708643 -0.526470 -0.233940  1.025148\n",
       "1 -0.186126  0.666079  0.282509 -0.189091\n",
       "2 -0.269858 -0.468455 -0.340585  0.480711\n",
       "3 -2.087208  0.035884  0.774530  1.267295\n",
       "4 -0.954654  0.249311 -2.104319  0.724493\n",
       "5  0.190199 -0.335903 -0.642518 -0.120549\n",
       "6 -0.734025 -3.028944  0.333588  0.392728\n",
       "7  1.455715  0.917871 -1.103893 -0.443200\n",
       "8  2.633779 -0.079026  0.675282 -0.811920"
      ]
     },
     "execution_count": 6,
     "metadata": {},
     "output_type": "execute_result"
    }
   ],
   "source": [
    "df.columns = [['No1', 'No2', 'No3', 'No4']]\n",
    "df"
   ]
  },
  {
   "cell_type": "code",
   "execution_count": 8,
   "metadata": {},
   "outputs": [
    {
     "data": {
      "text/plain": [
       "0.035884258365817996"
      ]
     },
     "execution_count": 8,
     "metadata": {},
     "output_type": "execute_result"
    }
   ],
   "source": [
    "df['No2'][3] #reach using index and column name"
   ]
  },
  {
   "cell_type": "code",
   "execution_count": 9,
   "metadata": {},
   "outputs": [
    {
     "data": {
      "text/plain": [
       "DatetimeIndex(['2015-01-31', '2015-02-28', '2015-03-31', '2015-04-30',\n",
       "               '2015-05-31', '2015-06-30', '2015-07-31', '2015-08-31',\n",
       "               '2015-09-30'],\n",
       "              dtype='datetime64[ns]', freq='M')"
      ]
     },
     "execution_count": 9,
     "metadata": {},
     "output_type": "execute_result"
    }
   ],
   "source": [
    "dates = pd.date_range('2015-1-1', periods=9, freq='M')\n",
    "dates"
   ]
  },
  {
   "cell_type": "code",
   "execution_count": 10,
   "metadata": {},
   "outputs": [
    {
     "data": {
      "text/html": [
       "<div>\n",
       "<style>\n",
       "    .dataframe thead tr:only-child th {\n",
       "        text-align: right;\n",
       "    }\n",
       "\n",
       "    .dataframe thead th {\n",
       "        text-align: left;\n",
       "    }\n",
       "\n",
       "    .dataframe tbody tr th {\n",
       "        vertical-align: top;\n",
       "    }\n",
       "</style>\n",
       "<table border=\"1\" class=\"dataframe\">\n",
       "  <thead>\n",
       "    <tr style=\"text-align: right;\">\n",
       "      <th></th>\n",
       "      <th>No1</th>\n",
       "      <th>No2</th>\n",
       "      <th>No3</th>\n",
       "      <th>No4</th>\n",
       "    </tr>\n",
       "  </thead>\n",
       "  <tbody>\n",
       "    <tr>\n",
       "      <th>2015-01-31</th>\n",
       "      <td>-0.708643</td>\n",
       "      <td>-0.526470</td>\n",
       "      <td>-0.233940</td>\n",
       "      <td>1.025148</td>\n",
       "    </tr>\n",
       "    <tr>\n",
       "      <th>2015-02-28</th>\n",
       "      <td>-0.186126</td>\n",
       "      <td>0.666079</td>\n",
       "      <td>0.282509</td>\n",
       "      <td>-0.189091</td>\n",
       "    </tr>\n",
       "    <tr>\n",
       "      <th>2015-03-31</th>\n",
       "      <td>-0.269858</td>\n",
       "      <td>-0.468455</td>\n",
       "      <td>-0.340585</td>\n",
       "      <td>0.480711</td>\n",
       "    </tr>\n",
       "    <tr>\n",
       "      <th>2015-04-30</th>\n",
       "      <td>-2.087208</td>\n",
       "      <td>0.035884</td>\n",
       "      <td>0.774530</td>\n",
       "      <td>1.267295</td>\n",
       "    </tr>\n",
       "    <tr>\n",
       "      <th>2015-05-31</th>\n",
       "      <td>-0.954654</td>\n",
       "      <td>0.249311</td>\n",
       "      <td>-2.104319</td>\n",
       "      <td>0.724493</td>\n",
       "    </tr>\n",
       "    <tr>\n",
       "      <th>2015-06-30</th>\n",
       "      <td>0.190199</td>\n",
       "      <td>-0.335903</td>\n",
       "      <td>-0.642518</td>\n",
       "      <td>-0.120549</td>\n",
       "    </tr>\n",
       "    <tr>\n",
       "      <th>2015-07-31</th>\n",
       "      <td>-0.734025</td>\n",
       "      <td>-3.028944</td>\n",
       "      <td>0.333588</td>\n",
       "      <td>0.392728</td>\n",
       "    </tr>\n",
       "    <tr>\n",
       "      <th>2015-08-31</th>\n",
       "      <td>1.455715</td>\n",
       "      <td>0.917871</td>\n",
       "      <td>-1.103893</td>\n",
       "      <td>-0.443200</td>\n",
       "    </tr>\n",
       "    <tr>\n",
       "      <th>2015-09-30</th>\n",
       "      <td>2.633779</td>\n",
       "      <td>-0.079026</td>\n",
       "      <td>0.675282</td>\n",
       "      <td>-0.811920</td>\n",
       "    </tr>\n",
       "  </tbody>\n",
       "</table>\n",
       "</div>"
      ],
      "text/plain": [
       "                 No1       No2       No3       No4\n",
       "2015-01-31 -0.708643 -0.526470 -0.233940  1.025148\n",
       "2015-02-28 -0.186126  0.666079  0.282509 -0.189091\n",
       "2015-03-31 -0.269858 -0.468455 -0.340585  0.480711\n",
       "2015-04-30 -2.087208  0.035884  0.774530  1.267295\n",
       "2015-05-31 -0.954654  0.249311 -2.104319  0.724493\n",
       "2015-06-30  0.190199 -0.335903 -0.642518 -0.120549\n",
       "2015-07-31 -0.734025 -3.028944  0.333588  0.392728\n",
       "2015-08-31  1.455715  0.917871 -1.103893 -0.443200\n",
       "2015-09-30  2.633779 -0.079026  0.675282 -0.811920"
      ]
     },
     "execution_count": 10,
     "metadata": {},
     "output_type": "execute_result"
    }
   ],
   "source": [
    "df.index = dates\n",
    "df"
   ]
  },
  {
   "cell_type": "code",
   "execution_count": 11,
   "metadata": {},
   "outputs": [
    {
     "name": "stderr",
     "output_type": "stream",
     "text": [
      "/usr/local/lib/python2.7/dist-packages/ipykernel_launcher.py:2: RuntimeWarning: invalid value encountered in sqrt\n",
      "  \n"
     ]
    },
    {
     "data": {
      "text/html": [
       "<div>\n",
       "<style>\n",
       "    .dataframe thead tr:only-child th {\n",
       "        text-align: right;\n",
       "    }\n",
       "\n",
       "    .dataframe thead th {\n",
       "        text-align: left;\n",
       "    }\n",
       "\n",
       "    .dataframe tbody tr th {\n",
       "        vertical-align: top;\n",
       "    }\n",
       "</style>\n",
       "<table border=\"1\" class=\"dataframe\">\n",
       "  <thead>\n",
       "    <tr style=\"text-align: right;\">\n",
       "      <th></th>\n",
       "      <th>No1</th>\n",
       "      <th>No2</th>\n",
       "      <th>No3</th>\n",
       "      <th>No4</th>\n",
       "    </tr>\n",
       "  </thead>\n",
       "  <tbody>\n",
       "    <tr>\n",
       "      <th>2015-01-31</th>\n",
       "      <td>NaN</td>\n",
       "      <td>NaN</td>\n",
       "      <td>NaN</td>\n",
       "      <td>1.012496</td>\n",
       "    </tr>\n",
       "    <tr>\n",
       "      <th>2015-02-28</th>\n",
       "      <td>NaN</td>\n",
       "      <td>0.816137</td>\n",
       "      <td>0.531516</td>\n",
       "      <td>NaN</td>\n",
       "    </tr>\n",
       "    <tr>\n",
       "      <th>2015-03-31</th>\n",
       "      <td>NaN</td>\n",
       "      <td>NaN</td>\n",
       "      <td>NaN</td>\n",
       "      <td>0.693333</td>\n",
       "    </tr>\n",
       "    <tr>\n",
       "      <th>2015-04-30</th>\n",
       "      <td>NaN</td>\n",
       "      <td>0.189431</td>\n",
       "      <td>0.880074</td>\n",
       "      <td>1.125742</td>\n",
       "    </tr>\n",
       "    <tr>\n",
       "      <th>2015-05-31</th>\n",
       "      <td>NaN</td>\n",
       "      <td>0.499310</td>\n",
       "      <td>NaN</td>\n",
       "      <td>0.851172</td>\n",
       "    </tr>\n",
       "    <tr>\n",
       "      <th>2015-06-30</th>\n",
       "      <td>0.436119</td>\n",
       "      <td>NaN</td>\n",
       "      <td>NaN</td>\n",
       "      <td>NaN</td>\n",
       "    </tr>\n",
       "    <tr>\n",
       "      <th>2015-07-31</th>\n",
       "      <td>NaN</td>\n",
       "      <td>NaN</td>\n",
       "      <td>0.577570</td>\n",
       "      <td>0.626680</td>\n",
       "    </tr>\n",
       "    <tr>\n",
       "      <th>2015-08-31</th>\n",
       "      <td>1.206530</td>\n",
       "      <td>0.958056</td>\n",
       "      <td>NaN</td>\n",
       "      <td>NaN</td>\n",
       "    </tr>\n",
       "    <tr>\n",
       "      <th>2015-09-30</th>\n",
       "      <td>1.622892</td>\n",
       "      <td>NaN</td>\n",
       "      <td>0.821755</td>\n",
       "      <td>NaN</td>\n",
       "    </tr>\n",
       "  </tbody>\n",
       "</table>\n",
       "</div>"
      ],
      "text/plain": [
       "                 No1       No2       No3       No4\n",
       "2015-01-31       NaN       NaN       NaN  1.012496\n",
       "2015-02-28       NaN  0.816137  0.531516       NaN\n",
       "2015-03-31       NaN       NaN       NaN  0.693333\n",
       "2015-04-30       NaN  0.189431  0.880074  1.125742\n",
       "2015-05-31       NaN  0.499310       NaN  0.851172\n",
       "2015-06-30  0.436119       NaN       NaN       NaN\n",
       "2015-07-31       NaN       NaN  0.577570  0.626680\n",
       "2015-08-31  1.206530  0.958056       NaN       NaN\n",
       "2015-09-30  1.622892       NaN  0.821755       NaN"
      ]
     },
     "execution_count": 11,
     "metadata": {},
     "output_type": "execute_result"
    }
   ],
   "source": [
    "# we can use numpy functions for pandas DataFrame\n",
    "np.sqrt(df)"
   ]
  },
  {
   "cell_type": "code",
   "execution_count": 12,
   "metadata": {},
   "outputs": [
    {
     "name": "stderr",
     "output_type": "stream",
     "text": [
      "/usr/local/lib/python2.7/dist-packages/ipykernel_launcher.py:1: RuntimeWarning: invalid value encountered in sqrt\n",
      "  \"\"\"Entry point for launching an IPython kernel.\n"
     ]
    },
    {
     "data": {
      "text/plain": [
       "No1    3.265541\n",
       "No2    2.462934\n",
       "No3    2.810915\n",
       "No4    4.309422\n",
       "dtype: float64"
      ]
     },
     "execution_count": 12,
     "metadata": {},
     "output_type": "execute_result"
    }
   ],
   "source": [
    "np.sqrt(df).sum()"
   ]
  },
  {
   "cell_type": "code",
   "execution_count": 14,
   "metadata": {},
   "outputs": [
    {
     "data": {
      "text/plain": [
       "<matplotlib.axes._subplots.AxesSubplot at 0x7f6c9afc25d0>"
      ]
     },
     "execution_count": 14,
     "metadata": {},
     "output_type": "execute_result"
    },
    {
     "data": {
      "image/png": "[encoded data removed]",
      "text/plain": [
       "<matplotlib.figure.Figure at 0x7f6cb114bd10>"
      ]
     },
     "metadata": {},
     "output_type": "display_data"
    }
   ],
   "source": [
    "%matplotlib inline\n",
    "df.cumsum().plot(lw=2.0)"
   ]
  },
  {
   "cell_type": "code",
   "execution_count": 16,
   "metadata": {},
   "outputs": [
    {
     "name": "stdout",
     "output_type": "stream",
     "text": [
      "2015-01-31   -0.708643\n",
      "2015-02-28   -0.186126\n",
      "2015-03-31   -0.269858\n",
      "2015-04-30   -2.087208\n",
      "2015-05-31   -0.954654\n",
      "2015-06-30    0.190199\n",
      "2015-07-31   -0.734025\n",
      "2015-08-31    1.455715\n",
      "2015-09-30    2.633779\n",
      "Freq: M, Name: No1, dtype: float64\n"
     ]
    },
    {
     "data": {
      "text/plain": [
       "pandas.core.series.Series"
      ]
     },
     "execution_count": 16,
     "metadata": {},
     "output_type": "execute_result"
    }
   ],
   "source": [
    "### SERIES CLASS\n",
    "print df['No1'] # a column is a Series class object\n",
    "type(df['No1'])"
   ]
  },
  {
   "cell_type": "code",
   "execution_count": 17,
   "metadata": {},
   "outputs": [
    {
     "data": {
      "text/plain": [
       "<matplotlib.text.Text at 0x7f6c97657310>"
      ]
     },
     "execution_count": 17,
     "metadata": {},
     "output_type": "execute_result"
    },
    {
     "data": {
      "image/png": "[encoded data removed]",
      "text/plain": [
       "<matplotlib.figure.Figure at 0x7f6c9af936d0>"
      ]
     },
     "metadata": {},
     "output_type": "display_data"
    }
   ],
   "source": [
    "df['No1'].cumsum().plot(style='r', lw=2)\n",
    "plt.xlabel('date')\n",
    "plt.ylabel('value')"
   ]
  },
  {
   "cell_type": "code",
   "execution_count": 18,
   "metadata": {},
   "outputs": [
    {
     "data": {
      "text/html": [
       "<div>\n",
       "<style>\n",
       "    .dataframe thead tr:only-child th {\n",
       "        text-align: right;\n",
       "    }\n",
       "\n",
       "    .dataframe thead th {\n",
       "        text-align: left;\n",
       "    }\n",
       "\n",
       "    .dataframe tbody tr th {\n",
       "        vertical-align: top;\n",
       "    }\n",
       "</style>\n",
       "<table border=\"1\" class=\"dataframe\">\n",
       "  <thead>\n",
       "    <tr style=\"text-align: right;\">\n",
       "      <th></th>\n",
       "      <th>No1</th>\n",
       "      <th>No2</th>\n",
       "      <th>No3</th>\n",
       "      <th>No4</th>\n",
       "      <th>Quarter</th>\n",
       "    </tr>\n",
       "  </thead>\n",
       "  <tbody>\n",
       "    <tr>\n",
       "      <th>2015-01-31</th>\n",
       "      <td>-0.708643</td>\n",
       "      <td>-0.526470</td>\n",
       "      <td>-0.233940</td>\n",
       "      <td>1.025148</td>\n",
       "      <td>Q1</td>\n",
       "    </tr>\n",
       "    <tr>\n",
       "      <th>2015-02-28</th>\n",
       "      <td>-0.186126</td>\n",
       "      <td>0.666079</td>\n",
       "      <td>0.282509</td>\n",
       "      <td>-0.189091</td>\n",
       "      <td>Q1</td>\n",
       "    </tr>\n",
       "    <tr>\n",
       "      <th>2015-03-31</th>\n",
       "      <td>-0.269858</td>\n",
       "      <td>-0.468455</td>\n",
       "      <td>-0.340585</td>\n",
       "      <td>0.480711</td>\n",
       "      <td>Q1</td>\n",
       "    </tr>\n",
       "    <tr>\n",
       "      <th>2015-04-30</th>\n",
       "      <td>-2.087208</td>\n",
       "      <td>0.035884</td>\n",
       "      <td>0.774530</td>\n",
       "      <td>1.267295</td>\n",
       "      <td>Q2</td>\n",
       "    </tr>\n",
       "    <tr>\n",
       "      <th>2015-05-31</th>\n",
       "      <td>-0.954654</td>\n",
       "      <td>0.249311</td>\n",
       "      <td>-2.104319</td>\n",
       "      <td>0.724493</td>\n",
       "      <td>Q2</td>\n",
       "    </tr>\n",
       "    <tr>\n",
       "      <th>2015-06-30</th>\n",
       "      <td>0.190199</td>\n",
       "      <td>-0.335903</td>\n",
       "      <td>-0.642518</td>\n",
       "      <td>-0.120549</td>\n",
       "      <td>Q2</td>\n",
       "    </tr>\n",
       "    <tr>\n",
       "      <th>2015-07-31</th>\n",
       "      <td>-0.734025</td>\n",
       "      <td>-3.028944</td>\n",
       "      <td>0.333588</td>\n",
       "      <td>0.392728</td>\n",
       "      <td>Q3</td>\n",
       "    </tr>\n",
       "    <tr>\n",
       "      <th>2015-08-31</th>\n",
       "      <td>1.455715</td>\n",
       "      <td>0.917871</td>\n",
       "      <td>-1.103893</td>\n",
       "      <td>-0.443200</td>\n",
       "      <td>Q3</td>\n",
       "    </tr>\n",
       "    <tr>\n",
       "      <th>2015-09-30</th>\n",
       "      <td>2.633779</td>\n",
       "      <td>-0.079026</td>\n",
       "      <td>0.675282</td>\n",
       "      <td>-0.811920</td>\n",
       "      <td>Q3</td>\n",
       "    </tr>\n",
       "  </tbody>\n",
       "</table>\n",
       "</div>"
      ],
      "text/plain": [
       "                 No1       No2       No3       No4 Quarter\n",
       "2015-01-31 -0.708643 -0.526470 -0.233940  1.025148      Q1\n",
       "2015-02-28 -0.186126  0.666079  0.282509 -0.189091      Q1\n",
       "2015-03-31 -0.269858 -0.468455 -0.340585  0.480711      Q1\n",
       "2015-04-30 -2.087208  0.035884  0.774530  1.267295      Q2\n",
       "2015-05-31 -0.954654  0.249311 -2.104319  0.724493      Q2\n",
       "2015-06-30  0.190199 -0.335903 -0.642518 -0.120549      Q2\n",
       "2015-07-31 -0.734025 -3.028944  0.333588  0.392728      Q3\n",
       "2015-08-31  1.455715  0.917871 -1.103893 -0.443200      Q3\n",
       "2015-09-30  2.633779 -0.079026  0.675282 -0.811920      Q3"
      ]
     },
     "execution_count": 18,
     "metadata": {},
     "output_type": "execute_result"
    }
   ],
   "source": [
    "### GroupBy operations\n",
    "df['Quarter'] = ['Q1', 'Q1', 'Q1', 'Q2', 'Q2', 'Q2', 'Q3', 'Q3', 'Q3']\n",
    "df"
   ]
  },
  {
   "cell_type": "code",
   "execution_count": 20,
   "metadata": {},
   "outputs": [
    {
     "data": {
      "text/html": [
       "<div>\n",
       "<style>\n",
       "    .dataframe thead tr:only-child th {\n",
       "        text-align: right;\n",
       "    }\n",
       "\n",
       "    .dataframe thead th {\n",
       "        text-align: left;\n",
       "    }\n",
       "\n",
       "    .dataframe tbody tr th {\n",
       "        vertical-align: top;\n",
       "    }\n",
       "</style>\n",
       "<table border=\"1\" class=\"dataframe\">\n",
       "  <thead>\n",
       "    <tr style=\"text-align: right;\">\n",
       "      <th></th>\n",
       "      <th>No1</th>\n",
       "      <th>No2</th>\n",
       "      <th>No3</th>\n",
       "      <th>No4</th>\n",
       "    </tr>\n",
       "    <tr>\n",
       "      <th>Quarter</th>\n",
       "      <th></th>\n",
       "      <th></th>\n",
       "      <th></th>\n",
       "      <th></th>\n",
       "    </tr>\n",
       "  </thead>\n",
       "  <tbody>\n",
       "    <tr>\n",
       "      <th>Q1</th>\n",
       "      <td>-0.388209</td>\n",
       "      <td>-0.109615</td>\n",
       "      <td>-0.097339</td>\n",
       "      <td>0.438923</td>\n",
       "    </tr>\n",
       "    <tr>\n",
       "      <th>Q2</th>\n",
       "      <td>-0.950554</td>\n",
       "      <td>-0.016903</td>\n",
       "      <td>-0.657436</td>\n",
       "      <td>0.623746</td>\n",
       "    </tr>\n",
       "    <tr>\n",
       "      <th>Q3</th>\n",
       "      <td>1.118490</td>\n",
       "      <td>-0.730033</td>\n",
       "      <td>-0.031674</td>\n",
       "      <td>-0.287464</td>\n",
       "    </tr>\n",
       "  </tbody>\n",
       "</table>\n",
       "</div>"
      ],
      "text/plain": [
       "              No1       No2       No3       No4\n",
       "Quarter                                        \n",
       "Q1      -0.388209 -0.109615 -0.097339  0.438923\n",
       "Q2      -0.950554 -0.016903 -0.657436  0.623746\n",
       "Q3       1.118490 -0.730033 -0.031674 -0.287464"
      ]
     },
     "execution_count": 20,
     "metadata": {},
     "output_type": "execute_result"
    }
   ],
   "source": [
    "# let's group by quarters\n",
    "groups = df.groupby('Quarter')\n",
    "groups.mean()"
   ]
  },
  {
   "cell_type": "code",
   "execution_count": 21,
   "metadata": {},
   "outputs": [
    {
     "name": "stdout",
     "output_type": "stream",
     "text": [
      "              No1       No2       No3       No4\n",
      "Quarter                                        \n",
      "Q1      -0.186126  0.666079  0.282509  1.025148\n",
      "Q2       0.190199  0.249311  0.774530  1.267295\n",
      "Q3       2.633779  0.917871  0.675282  0.392728\n"
     ]
    },
    {
     "data": {
      "text/plain": [
       "Quarter\n",
       "Q1    3\n",
       "Q2    3\n",
       "Q3    3\n",
       "dtype: int64"
      ]
     },
     "execution_count": 21,
     "metadata": {},
     "output_type": "execute_result"
    }
   ],
   "source": [
    "print groups.max()\n",
    "groups.size()"
   ]
  },
  {
   "cell_type": "code",
   "execution_count": 22,
   "metadata": {},
   "outputs": [
    {
     "data": {
      "text/html": [
       "<div>\n",
       "<style>\n",
       "    .dataframe thead tr:only-child th {\n",
       "        text-align: right;\n",
       "    }\n",
       "\n",
       "    .dataframe thead th {\n",
       "        text-align: left;\n",
       "    }\n",
       "\n",
       "    .dataframe tbody tr th {\n",
       "        vertical-align: top;\n",
       "    }\n",
       "</style>\n",
       "<table border=\"1\" class=\"dataframe\">\n",
       "  <thead>\n",
       "    <tr style=\"text-align: right;\">\n",
       "      <th></th>\n",
       "      <th>No1</th>\n",
       "      <th>No2</th>\n",
       "      <th>No3</th>\n",
       "      <th>No4</th>\n",
       "      <th>Quarter</th>\n",
       "      <th>Odd_Even</th>\n",
       "    </tr>\n",
       "  </thead>\n",
       "  <tbody>\n",
       "    <tr>\n",
       "      <th>2015-01-31</th>\n",
       "      <td>-0.708643</td>\n",
       "      <td>-0.526470</td>\n",
       "      <td>-0.233940</td>\n",
       "      <td>1.025148</td>\n",
       "      <td>Q1</td>\n",
       "      <td>Odd</td>\n",
       "    </tr>\n",
       "    <tr>\n",
       "      <th>2015-02-28</th>\n",
       "      <td>-0.186126</td>\n",
       "      <td>0.666079</td>\n",
       "      <td>0.282509</td>\n",
       "      <td>-0.189091</td>\n",
       "      <td>Q1</td>\n",
       "      <td>Even</td>\n",
       "    </tr>\n",
       "    <tr>\n",
       "      <th>2015-03-31</th>\n",
       "      <td>-0.269858</td>\n",
       "      <td>-0.468455</td>\n",
       "      <td>-0.340585</td>\n",
       "      <td>0.480711</td>\n",
       "      <td>Q1</td>\n",
       "      <td>Odd</td>\n",
       "    </tr>\n",
       "    <tr>\n",
       "      <th>2015-04-30</th>\n",
       "      <td>-2.087208</td>\n",
       "      <td>0.035884</td>\n",
       "      <td>0.774530</td>\n",
       "      <td>1.267295</td>\n",
       "      <td>Q2</td>\n",
       "      <td>Even</td>\n",
       "    </tr>\n",
       "    <tr>\n",
       "      <th>2015-05-31</th>\n",
       "      <td>-0.954654</td>\n",
       "      <td>0.249311</td>\n",
       "      <td>-2.104319</td>\n",
       "      <td>0.724493</td>\n",
       "      <td>Q2</td>\n",
       "      <td>Odd</td>\n",
       "    </tr>\n",
       "    <tr>\n",
       "      <th>2015-06-30</th>\n",
       "      <td>0.190199</td>\n",
       "      <td>-0.335903</td>\n",
       "      <td>-0.642518</td>\n",
       "      <td>-0.120549</td>\n",
       "      <td>Q2</td>\n",
       "      <td>Even</td>\n",
       "    </tr>\n",
       "    <tr>\n",
       "      <th>2015-07-31</th>\n",
       "      <td>-0.734025</td>\n",
       "      <td>-3.028944</td>\n",
       "      <td>0.333588</td>\n",
       "      <td>0.392728</td>\n",
       "      <td>Q3</td>\n",
       "      <td>Odd</td>\n",
       "    </tr>\n",
       "    <tr>\n",
       "      <th>2015-08-31</th>\n",
       "      <td>1.455715</td>\n",
       "      <td>0.917871</td>\n",
       "      <td>-1.103893</td>\n",
       "      <td>-0.443200</td>\n",
       "      <td>Q3</td>\n",
       "      <td>Even</td>\n",
       "    </tr>\n",
       "    <tr>\n",
       "      <th>2015-09-30</th>\n",
       "      <td>2.633779</td>\n",
       "      <td>-0.079026</td>\n",
       "      <td>0.675282</td>\n",
       "      <td>-0.811920</td>\n",
       "      <td>Q3</td>\n",
       "      <td>Odd</td>\n",
       "    </tr>\n",
       "  </tbody>\n",
       "</table>\n",
       "</div>"
      ],
      "text/plain": [
       "                 No1       No2       No3       No4 Quarter Odd_Even\n",
       "2015-01-31 -0.708643 -0.526470 -0.233940  1.025148      Q1      Odd\n",
       "2015-02-28 -0.186126  0.666079  0.282509 -0.189091      Q1     Even\n",
       "2015-03-31 -0.269858 -0.468455 -0.340585  0.480711      Q1      Odd\n",
       "2015-04-30 -2.087208  0.035884  0.774530  1.267295      Q2     Even\n",
       "2015-05-31 -0.954654  0.249311 -2.104319  0.724493      Q2      Odd\n",
       "2015-06-30  0.190199 -0.335903 -0.642518 -0.120549      Q2     Even\n",
       "2015-07-31 -0.734025 -3.028944  0.333588  0.392728      Q3      Odd\n",
       "2015-08-31  1.455715  0.917871 -1.103893 -0.443200      Q3     Even\n",
       "2015-09-30  2.633779 -0.079026  0.675282 -0.811920      Q3      Odd"
      ]
     },
     "execution_count": 22,
     "metadata": {},
     "output_type": "execute_result"
    }
   ],
   "source": [
    "df['Odd_Even'] = ['Odd', 'Even', 'Odd', 'Even', 'Odd', 'Even', 'Odd', 'Even', 'Odd']\n",
    "df"
   ]
  },
  {
   "cell_type": "code",
   "execution_count": 23,
   "metadata": {},
   "outputs": [
    {
     "data": {
      "text/plain": [
       "Quarter  Odd_Even\n",
       "Q1       Even        1\n",
       "         Odd         2\n",
       "Q2       Even        2\n",
       "         Odd         1\n",
       "Q3       Even        1\n",
       "         Odd         2\n",
       "dtype: int64"
      ]
     },
     "execution_count": 23,
     "metadata": {},
     "output_type": "execute_result"
    }
   ],
   "source": [
    "groups = df.groupby(['Quarter', 'Odd_Even'])\n",
    "groups.size()"
   ]
  },
  {
   "cell_type": "code",
   "execution_count": 24,
   "metadata": {},
   "outputs": [
    {
     "data": {
      "text/html": [
       "<div>\n",
       "<style>\n",
       "    .dataframe thead tr:only-child th {\n",
       "        text-align: right;\n",
       "    }\n",
       "\n",
       "    .dataframe thead th {\n",
       "        text-align: left;\n",
       "    }\n",
       "\n",
       "    .dataframe tbody tr th {\n",
       "        vertical-align: top;\n",
       "    }\n",
       "</style>\n",
       "<table border=\"1\" class=\"dataframe\">\n",
       "  <thead>\n",
       "    <tr style=\"text-align: right;\">\n",
       "      <th></th>\n",
       "      <th></th>\n",
       "      <th>No1</th>\n",
       "      <th>No2</th>\n",
       "      <th>No3</th>\n",
       "      <th>No4</th>\n",
       "    </tr>\n",
       "    <tr>\n",
       "      <th>Quarter</th>\n",
       "      <th>Odd_Even</th>\n",
       "      <th></th>\n",
       "      <th></th>\n",
       "      <th></th>\n",
       "      <th></th>\n",
       "    </tr>\n",
       "  </thead>\n",
       "  <tbody>\n",
       "    <tr>\n",
       "      <th rowspan=\"2\" valign=\"top\">Q1</th>\n",
       "      <th>Even</th>\n",
       "      <td>-0.186126</td>\n",
       "      <td>0.666079</td>\n",
       "      <td>0.282509</td>\n",
       "      <td>-0.189091</td>\n",
       "    </tr>\n",
       "    <tr>\n",
       "      <th>Odd</th>\n",
       "      <td>-0.489251</td>\n",
       "      <td>-0.497462</td>\n",
       "      <td>-0.287263</td>\n",
       "      <td>0.752929</td>\n",
       "    </tr>\n",
       "    <tr>\n",
       "      <th rowspan=\"2\" valign=\"top\">Q2</th>\n",
       "      <th>Even</th>\n",
       "      <td>-0.948504</td>\n",
       "      <td>-0.150009</td>\n",
       "      <td>0.066006</td>\n",
       "      <td>0.573373</td>\n",
       "    </tr>\n",
       "    <tr>\n",
       "      <th>Odd</th>\n",
       "      <td>-0.954654</td>\n",
       "      <td>0.249311</td>\n",
       "      <td>-2.104319</td>\n",
       "      <td>0.724493</td>\n",
       "    </tr>\n",
       "    <tr>\n",
       "      <th rowspan=\"2\" valign=\"top\">Q3</th>\n",
       "      <th>Even</th>\n",
       "      <td>1.455715</td>\n",
       "      <td>0.917871</td>\n",
       "      <td>-1.103893</td>\n",
       "      <td>-0.443200</td>\n",
       "    </tr>\n",
       "    <tr>\n",
       "      <th>Odd</th>\n",
       "      <td>0.949877</td>\n",
       "      <td>-1.553985</td>\n",
       "      <td>0.504435</td>\n",
       "      <td>-0.209596</td>\n",
       "    </tr>\n",
       "  </tbody>\n",
       "</table>\n",
       "</div>"
      ],
      "text/plain": [
       "                       No1       No2       No3       No4\n",
       "Quarter Odd_Even                                        \n",
       "Q1      Even     -0.186126  0.666079  0.282509 -0.189091\n",
       "        Odd      -0.489251 -0.497462 -0.287263  0.752929\n",
       "Q2      Even     -0.948504 -0.150009  0.066006  0.573373\n",
       "        Odd      -0.954654  0.249311 -2.104319  0.724493\n",
       "Q3      Even      1.455715  0.917871 -1.103893 -0.443200\n",
       "        Odd       0.949877 -1.553985  0.504435 -0.209596"
      ]
     },
     "execution_count": 24,
     "metadata": {},
     "output_type": "execute_result"
    }
   ],
   "source": [
    "groups.mean()\n"
   ]
  },
  {
   "cell_type": "code",
   "execution_count": null,
   "metadata": {},
   "outputs": [],
   "source": []
  }
 ],
 "metadata": {
  "kernelspec": {
   "display_name": "Python 2",
   "language": "python",
   "name": "python2"
  },
  "language_info": {
   "codemirror_mode": {
    "name": "ipython",
    "version": 2
   },
   "file_extension": ".py",
   "mimetype": "text/x-python",
   "name": "python",
   "nbconvert_exporter": "python",
   "pygments_lexer": "ipython2",
   "version": "2.7.12"
  }
 },
 "nbformat": 4,
 "nbformat_minor": 2
}
