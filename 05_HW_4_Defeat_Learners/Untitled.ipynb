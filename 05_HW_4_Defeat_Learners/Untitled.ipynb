{
 "cells": [
  {
   "cell_type": "code",
   "execution_count": 1,
   "metadata": {},
   "outputs": [],
   "source": [
    "import numpy as np\n",
    "import math"
   ]
  },
  {
   "cell_type": "code",
   "execution_count": 8,
   "metadata": {},
   "outputs": [
    {
     "data": {
      "text/plain": [
       "17.65841316829893"
      ]
     },
     "execution_count": 8,
     "metadata": {},
     "output_type": "execute_result"
    }
   ],
   "source": [
    "np.random.rand() * np.random.randint(20)"
   ]
  },
  {
   "cell_type": "code",
   "execution_count": 12,
   "metadata": {},
   "outputs": [
    {
     "data": {
      "text/plain": [
       "array([[5, 9, 9, 9, 4, 5, 9, 5],\n",
       "       [0, 2, 1, 1, 4, 9, 6, 5],\n",
       "       [7, 8, 8, 9, 6, 7, 8, 1],\n",
       "       [5, 7, 2, 1, 3, 4, 7, 7],\n",
       "       [7, 5, 3, 9, 1, 8, 6, 6],\n",
       "       [3, 9, 9, 3, 8, 7, 1, 3],\n",
       "       [4, 4, 2, 5, 5, 1, 6, 7],\n",
       "       [6, 9, 9, 5, 9, 6, 1, 3],\n",
       "       [9, 9, 1, 0, 0, 5, 4, 2],\n",
       "       [7, 1, 8, 1, 4, 9, 4, 3],\n",
       "       [0, 5, 7, 5, 4, 5, 1, 2],\n",
       "       [5, 0, 2, 4, 1, 6, 5, 8],\n",
       "       [2, 8, 0, 4, 0, 3, 4, 4],\n",
       "       [4, 3, 9, 1, 3, 9, 4, 2],\n",
       "       [7, 9, 3, 0, 0, 9, 8, 0],\n",
       "       [9, 7, 0, 8, 1, 2, 4, 7],\n",
       "       [8, 7, 1, 4, 0, 5, 4, 3],\n",
       "       [9, 5, 2, 4, 3, 3, 5, 2],\n",
       "       [3, 7, 1, 5, 1, 3, 2, 3],\n",
       "       [2, 5, 2, 1, 1, 2, 7, 7],\n",
       "       [0, 6, 0, 1, 5, 4, 3, 1],\n",
       "       [5, 6, 6, 1, 0, 8, 3, 6],\n",
       "       [4, 7, 2, 0, 3, 9, 5, 4],\n",
       "       [0, 8, 6, 0, 6, 7, 6, 4],\n",
       "       [9, 3, 5, 3, 1, 9, 5, 7],\n",
       "       [3, 8, 7, 7, 0, 3, 3, 9],\n",
       "       [1, 8, 2, 6, 0, 4, 1, 3],\n",
       "       [7, 7, 4, 3, 3, 9, 1, 7],\n",
       "       [5, 3, 9, 9, 8, 4, 7, 9],\n",
       "       [2, 5, 7, 8, 3, 7, 0, 0],\n",
       "       [2, 8, 0, 7, 9, 4, 7, 8],\n",
       "       [8, 8, 3, 7, 3, 3, 5, 4],\n",
       "       [1, 6, 9, 0, 3, 3, 6, 4],\n",
       "       [9, 3, 8, 2, 6, 3, 3, 6],\n",
       "       [4, 2, 2, 8, 0, 4, 9, 5],\n",
       "       [2, 2, 6, 6, 2, 5, 0, 8],\n",
       "       [7, 8, 1, 2, 6, 4, 7, 4],\n",
       "       [6, 0, 3, 5, 1, 6, 8, 7],\n",
       "       [7, 3, 8, 0, 1, 5, 0, 9],\n",
       "       [3, 3, 9, 6, 8, 2, 8, 7],\n",
       "       [9, 6, 6, 3, 8, 0, 6, 8],\n",
       "       [7, 0, 1, 7, 1, 5, 0, 0],\n",
       "       [1, 2, 7, 9, 9, 0, 6, 4],\n",
       "       [1, 3, 0, 6, 6, 7, 0, 3],\n",
       "       [3, 1, 8, 7, 9, 4, 8, 4],\n",
       "       [2, 0, 4, 4, 2, 8, 0, 6],\n",
       "       [2, 8, 5, 5, 3, 5, 2, 8],\n",
       "       [7, 2, 8, 8, 5, 6, 4, 2],\n",
       "       [0, 4, 7, 9, 6, 1, 7, 3],\n",
       "       [3, 2, 0, 8, 9, 0, 1, 2],\n",
       "       [1, 1, 5, 3, 4, 5, 6, 1],\n",
       "       [5, 6, 8, 7, 7, 6, 0, 1],\n",
       "       [3, 7, 6, 2, 0, 1, 4, 7],\n",
       "       [5, 3, 7, 8, 9, 1, 0, 2],\n",
       "       [3, 6, 0, 0, 3, 2, 2, 8],\n",
       "       [8, 9, 2, 5, 7, 3, 0, 5],\n",
       "       [8, 7, 5, 6, 5, 6, 0, 7],\n",
       "       [1, 2, 2, 1, 7, 1, 3, 4],\n",
       "       [5, 1, 8, 7, 4, 7, 4, 4],\n",
       "       [0, 9, 3, 6, 3, 4, 5, 9],\n",
       "       [3, 0, 9, 3, 0, 3, 8, 3],\n",
       "       [5, 9, 5, 4, 0, 5, 2, 1],\n",
       "       [3, 3, 3, 7, 0, 2, 5, 4],\n",
       "       [5, 2, 0, 4, 8, 6, 3, 2],\n",
       "       [3, 6, 0, 3, 0, 7, 8, 1],\n",
       "       [6, 4, 8, 7, 7, 4, 9, 7],\n",
       "       [4, 9, 1, 3, 5, 5, 8, 5],\n",
       "       [3, 8, 0, 1, 2, 6, 7, 4],\n",
       "       [7, 0, 6, 9, 3, 4, 2, 2],\n",
       "       [9, 4, 1, 2, 9, 4, 8, 7],\n",
       "       [5, 8, 5, 3, 3, 6, 6, 3],\n",
       "       [9, 5, 7, 7, 6, 0, 3, 9],\n",
       "       [4, 9, 5, 4, 8, 7, 9, 1],\n",
       "       [6, 3, 0, 0, 8, 1, 4, 1],\n",
       "       [4, 7, 9, 0, 5, 8, 1, 9],\n",
       "       [7, 4, 3, 2, 9, 8, 8, 3],\n",
       "       [5, 8, 0, 3, 2, 0, 1, 4],\n",
       "       [8, 6, 1, 0, 0, 5, 8, 8],\n",
       "       [0, 8, 7, 8, 3, 0, 0, 5],\n",
       "       [7, 9, 7, 1, 4, 2, 3, 7],\n",
       "       [5, 7, 0, 6, 8, 1, 7, 8],\n",
       "       [9, 0, 3, 3, 8, 5, 8, 5],\n",
       "       [4, 6, 3, 7, 0, 8, 1, 7],\n",
       "       [4, 7, 1, 2, 6, 1, 8, 9],\n",
       "       [4, 2, 4, 2, 8, 4, 8, 9],\n",
       "       [8, 0, 3, 4, 0, 6, 8, 4],\n",
       "       [0, 7, 0, 7, 6, 9, 6, 7],\n",
       "       [9, 9, 2, 4, 9, 6, 9, 5],\n",
       "       [0, 5, 6, 0, 4, 5, 2, 8],\n",
       "       [0, 0, 6, 6, 1, 1, 2, 5],\n",
       "       [2, 3, 4, 6, 4, 0, 2, 0],\n",
       "       [3, 3, 0, 1, 4, 8, 3, 0],\n",
       "       [5, 9, 4, 0, 4, 5, 1, 3],\n",
       "       [0, 5, 1, 3, 3, 5, 8, 4],\n",
       "       [8, 7, 3, 4, 3, 2, 9, 0],\n",
       "       [1, 8, 2, 3, 8, 6, 8, 1],\n",
       "       [3, 2, 5, 1, 4, 6, 6, 7],\n",
       "       [4, 0, 1, 8, 2, 4, 4, 8],\n",
       "       [4, 0, 1, 2, 4, 4, 4, 5],\n",
       "       [9, 9, 7, 0, 1, 4, 9, 0]])"
      ]
     },
     "execution_count": 12,
     "metadata": {},
     "output_type": "execute_result"
    }
   ],
   "source": [
    "cols = 8\n",
    "X = np.random.randint(0, 10, size = (100,cols))\n",
    "Y = np.zeros(100)\n",
    "X"
   ]
  },
  {
   "cell_type": "code",
   "execution_count": 44,
   "metadata": {},
   "outputs": [
    {
     "name": "stdout",
     "output_type": "stream",
     "text": [
      "0.542541945934\n"
     ]
    },
    {
     "data": {
      "text/plain": [
       "array([3.28662463, 0.13893729, 3.6114073 , 0.76616815, 7.9841411 ,\n",
       "       0.59814854, 4.6526233 , 4.84724911])"
      ]
     },
     "execution_count": 44,
     "metadata": {},
     "output_type": "execute_result"
    }
   ],
   "source": [
    "posit = np.random.rand()\n",
    "print posit\n",
    "weights = np.multiply(np.random.rand(X.shape[1]), np.random.randint(1, 10, size=(X.shape[1])))\n",
    "weights"
   ]
  },
  {
   "cell_type": "code",
   "execution_count": 45,
   "metadata": {},
   "outputs": [
    {
     "data": {
      "text/plain": [
       "array([ 1., -1.,  1.,  1.,  1.,  1.,  1., -1.])"
      ]
     },
     "execution_count": 45,
     "metadata": {},
     "output_type": "execute_result"
    }
   ],
   "source": [
    "a = np.random.rand(weights.shape[0]) > 0.5\n",
    "b = np.ones(weights.shape[0])\n",
    "b[a==True] = -1\n",
    "b"
   ]
  },
  {
   "cell_type": "code",
   "execution_count": 47,
   "metadata": {},
   "outputs": [
    {
     "data": {
      "text/plain": [
       "array([ 3.28662463, -0.13893729,  3.6114073 ,  0.76616815,  7.9841411 ,\n",
       "        0.59814854,  4.6526233 , -4.84724911])"
      ]
     },
     "execution_count": 47,
     "metadata": {},
     "output_type": "execute_result"
    }
   ],
   "source": [
    "weights = weights * b\n",
    "weights"
   ]
  },
  {
   "cell_type": "code",
   "execution_count": 48,
   "metadata": {},
   "outputs": [
    {
     "data": {
      "text/plain": [
       "numpy.ndarray"
      ]
     },
     "execution_count": 48,
     "metadata": {},
     "output_type": "execute_result"
    }
   ],
   "source": [
    "type(weights)"
   ]
  },
  {
   "cell_type": "code",
   "execution_count": 54,
   "metadata": {},
   "outputs": [
    {
     "data": {
      "text/plain": [
       "(100,)"
      ]
     },
     "execution_count": 54,
     "metadata": {},
     "output_type": "execute_result"
    }
   ],
   "source": [
    "Y = np.dot(X, weights)\n",
    "Y.shape"
   ]
  },
  {
   "cell_type": "code",
   "execution_count": 55,
   "metadata": {},
   "outputs": [
    {
     "data": {
      "text/plain": [
       "\u001b[0;31mDocstring:\u001b[0m\n",
       "normal(loc=0.0, scale=1.0, size=None)\n",
       "\n",
       "Draw random samples from a normal (Gaussian) distribution.\n",
       "\n",
       "The probability density function of the normal distribution, first\n",
       "derived by De Moivre and 200 years later by both Gauss and Laplace\n",
       "independently [2]_, is often called the bell curve because of\n",
       "its characteristic shape (see the example below).\n",
       "\n",
       "The normal distributions occurs often in nature.  For example, it\n",
       "describes the commonly occurring distribution of samples influenced\n",
       "by a large number of tiny, random disturbances, each with its own\n",
       "unique distribution [2]_.\n",
       "\n",
       "Parameters\n",
       "----------\n",
       "loc : float or array_like of floats\n",
       "    Mean (\"centre\") of the distribution.\n",
       "scale : float or array_like of floats\n",
       "    Standard deviation (spread or \"width\") of the distribution.\n",
       "size : int or tuple of ints, optional\n",
       "    Output shape.  If the given shape is, e.g., ``(m, n, k)``, then\n",
       "    ``m * n * k`` samples are drawn.  If size is ``None`` (default),\n",
       "    a single value is returned if ``loc`` and ``scale`` are both scalars.\n",
       "    Otherwise, ``np.broadcast(loc, scale).size`` samples are drawn.\n",
       "\n",
       "Returns\n",
       "-------\n",
       "out : ndarray or scalar\n",
       "    Drawn samples from the parameterized normal distribution.\n",
       "\n",
       "See Also\n",
       "--------\n",
       "scipy.stats.norm : probability density function, distribution or\n",
       "    cumulative density function, etc.\n",
       "\n",
       "Notes\n",
       "-----\n",
       "The probability density for the Gaussian distribution is\n",
       "\n",
       ".. math:: p(x) = \\frac{1}{\\sqrt{ 2 \\pi \\sigma^2 }}\n",
       "                 e^{ - \\frac{ (x - \\mu)^2 } {2 \\sigma^2} },\n",
       "\n",
       "where :math:`\\mu` is the mean and :math:`\\sigma` the standard\n",
       "deviation. The square of the standard deviation, :math:`\\sigma^2`,\n",
       "is called the variance.\n",
       "\n",
       "The function has its peak at the mean, and its \"spread\" increases with\n",
       "the standard deviation (the function reaches 0.607 times its maximum at\n",
       ":math:`x + \\sigma` and :math:`x - \\sigma` [2]_).  This implies that\n",
       "`numpy.random.normal` is more likely to return samples lying close to\n",
       "the mean, rather than those far away.\n",
       "\n",
       "References\n",
       "----------\n",
       ".. [1] Wikipedia, \"Normal distribution\",\n",
       "       http://en.wikipedia.org/wiki/Normal_distribution\n",
       ".. [2] P. R. Peebles Jr., \"Central Limit Theorem\" in \"Probability,\n",
       "       Random Variables and Random Signal Principles\", 4th ed., 2001,\n",
       "       pp. 51, 51, 125.\n",
       "\n",
       "Examples\n",
       "--------\n",
       "Draw samples from the distribution:\n",
       "\n",
       ">>> mu, sigma = 0, 0.1 # mean and standard deviation\n",
       ">>> s = np.random.normal(mu, sigma, 1000)\n",
       "\n",
       "Verify the mean and the variance:\n",
       "\n",
       ">>> abs(mu - np.mean(s)) < 0.01\n",
       "True\n",
       "\n",
       ">>> abs(sigma - np.std(s, ddof=1)) < 0.01\n",
       "True\n",
       "\n",
       "Display the histogram of the samples, along with\n",
       "the probability density function:\n",
       "\n",
       ">>> import matplotlib.pyplot as plt\n",
       ">>> count, bins, ignored = plt.hist(s, 30, density=True)\n",
       ">>> plt.plot(bins, 1/(sigma * np.sqrt(2 * np.pi)) *\n",
       "...                np.exp( - (bins - mu)**2 / (2 * sigma**2) ),\n",
       "...          linewidth=2, color='r')\n",
       ">>> plt.show()\n",
       "\u001b[0;31mType:\u001b[0m      builtin_function_or_method\n"
      ]
     },
     "metadata": {},
     "output_type": "display_data"
    }
   ],
   "source": [
    "np.random.normal?"
   ]
  },
  {
   "cell_type": "code",
   "execution_count": 56,
   "metadata": {},
   "outputs": [
    {
     "data": {
      "text/plain": [
       "65.33066031759053"
      ]
     },
     "execution_count": 56,
     "metadata": {},
     "output_type": "execute_result"
    }
   ],
   "source": [
    "np.mean(Y)"
   ]
  },
  {
   "cell_type": "code",
   "execution_count": 58,
   "metadata": {},
   "outputs": [
    {
     "data": {
      "text/plain": [
       "array([108.65837697,  49.07206853, 143.21119894,  47.95350424,\n",
       "        52.20623749,  99.64021809,  57.15569692, 119.70437072,\n",
       "        42.32468879,  91.28810948,  57.27002697,  21.11597743,\n",
       "        11.58054162,  84.68443995,  76.55075093,  29.59502145,\n",
       "        38.2525785 ,  78.98145353,  20.89950582,  21.36470488,\n",
       "        51.55695613,  28.47795164,  53.94750879,  82.19723247,\n",
       "        51.08366687,   9.50678005,   5.90966548,  39.16691621,\n",
       "       110.01297442,  64.87180333,  79.07467619,  70.02272057,\n",
       "        68.26754577,  96.04909893,  45.18108062,  11.42548711,\n",
       "        88.76585308,  50.21847749,  17.97755206, 115.20670845,\n",
       "       105.1694988 ,  46.58499126, 116.10793732,  45.75336306,\n",
       "       136.62543259,  16.12633742,  24.40352299, 108.95293603,\n",
       "        95.84481665,  82.01825537,  80.42830881, 102.35885814,\n",
       "        17.28693198, 110.09919184,   5.63058422,  71.12637881,\n",
       "        59.01729347,  60.09495   ,  85.69381532,  20.84268112,\n",
       "        71.82140752,  46.75909071,  32.19942982,  90.59169501,\n",
       "        47.71541063, 120.50868734,  74.74961971,  41.54924027,\n",
       "        77.2986334 , 113.72839528,  77.31467329,  80.18228384,\n",
       "       137.91287042,  95.31942222,  49.23332855, 135.13123112,\n",
       "        17.9890963 ,  32.84869952,  31.58168302,  61.94258045,\n",
       "        77.07687264, 121.90916998,   5.90667286,  59.42787536,\n",
       "        88.85736941,  61.29872049,  50.4415013 , 133.71845835,\n",
       "        25.23820659,  21.44480494,  65.39593191,  63.09714913,\n",
       "        54.0304845 ,  50.29490717, 106.92862665, 112.60216182,\n",
       "        57.93253921,  21.05307637,  45.79186584, 107.2525924 ])"
      ]
     },
     "execution_count": 58,
     "metadata": {},
     "output_type": "execute_result"
    }
   ],
   "source": [
    "Z = Y + np.random.normal(loc=0.0, scale=(np.mean(Y)/50), size=Y.shape[0])\n",
    "Z"
   ]
  },
  {
   "cell_type": "code",
   "execution_count": 59,
   "metadata": {},
   "outputs": [
    {
     "data": {
      "text/plain": [
       "array([ 1.51283907,  3.97297217,  1.06392936, -0.47867742,  0.56324171,\n",
       "       -1.94143496, -0.99255785, -0.65548508, -1.52264226, -2.62539933,\n",
       "       -1.03141066, -1.66278885,  2.03817568,  0.43416428,  1.35626894,\n",
       "        0.99842799, -0.80342599,  0.49354389,  0.02785889, -0.32089818,\n",
       "        0.20049125,  0.7842767 ,  1.34087647,  1.02165722, -1.13453457,\n",
       "       -2.01169725, -0.58875451,  0.33133148, -0.61036001, -0.55541893,\n",
       "        0.20951391, -0.97716611, -0.96173314,  1.88902696, -1.06966143,\n",
       "       -1.31637231, -1.74957204,  0.97039211, -0.8529087 ,  0.30430329,\n",
       "       -0.55432311,  3.62915069,  0.53980952,  0.73640234,  0.5682065 ,\n",
       "        0.3728105 , -0.41652495, -1.22175716, -2.3044096 , -0.50848413,\n",
       "       -1.07071728, -2.12570661, -0.07905898, -0.08723601,  0.92835998,\n",
       "        1.58297423,  1.46395906, -1.9587925 , -0.19990696,  0.67899393,\n",
       "        2.68667877,  3.00595382,  1.48855169, -0.35361788, -0.17012105,\n",
       "        0.86580546,  1.04745599, -0.70184356, -0.22746203,  2.02067251,\n",
       "        0.72220046,  2.41684594, -0.1914308 , -2.21803511, -1.1765498 ,\n",
       "        0.99235239, -0.86294206,  2.34418272,  1.56780721,  0.98063676,\n",
       "       -1.24234593, -0.65179037,  1.88933126,  0.01145473,  0.14931263,\n",
       "       -0.31405224, -1.22229422,  2.01825979, -1.19011159,  1.52806153,\n",
       "       -1.04495462,  2.20829634, -0.63601534,  0.30452591,  0.68696603,\n",
       "        1.0699591 ,  0.01688359, -0.02755131, -1.20178246,  1.39321024])"
      ]
     },
     "execution_count": 59,
     "metadata": {},
     "output_type": "execute_result"
    }
   ],
   "source": [
    "Z - Y"
   ]
  },
  {
   "cell_type": "code",
   "execution_count": null,
   "metadata": {},
   "outputs": [],
   "source": [
    "c"
   ]
  }
 ],
 "metadata": {
  "kernelspec": {
   "display_name": "Python 2",
   "language": "python",
   "name": "python2"
  },
  "language_info": {
   "codemirror_mode": {
    "name": "ipython",
    "version": 2
   },
   "file_extension": ".py",
   "mimetype": "text/x-python",
   "name": "python",
   "nbconvert_exporter": "python",
   "pygments_lexer": "ipython2",
   "version": "2.7.12"
  }
 },
 "nbformat": 4,
 "nbformat_minor": 2
}
