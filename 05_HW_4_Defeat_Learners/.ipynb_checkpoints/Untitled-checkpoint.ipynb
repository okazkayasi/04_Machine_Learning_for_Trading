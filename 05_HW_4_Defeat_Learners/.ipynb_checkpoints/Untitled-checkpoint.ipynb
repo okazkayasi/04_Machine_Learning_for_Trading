{
 "cells": [
  {
   "cell_type": "code",
   "execution_count": 1,
   "metadata": {},
   "outputs": [],
   "source": [
    "import numpy as np\n",
    "import math"
   ]
  },
  {
   "cell_type": "code",
   "execution_count": 8,
   "metadata": {},
   "outputs": [
    {
     "data": {
      "text/plain": [
       "17.65841316829893"
      ]
     },
     "execution_count": 8,
     "metadata": {},
     "output_type": "execute_result"
    }
   ],
   "source": [
    "np.random.rand() * np.random.randint(20)"
   ]
  },
  {
   "cell_type": "code",
   "execution_count": 12,
   "metadata": {},
   "outputs": [
    {
     "data": {
      "text/plain": [
       "array([[5, 9, 9, 9, 4, 5, 9, 5],\n",
       "       [0, 2, 1, 1, 4, 9, 6, 5],\n",
       "       [7, 8, 8, 9, 6, 7, 8, 1],\n",
       "       [5, 7, 2, 1, 3, 4, 7, 7],\n",
       "       [7, 5, 3, 9, 1, 8, 6, 6],\n",
       "       [3, 9, 9, 3, 8, 7, 1, 3],\n",
       "       [4, 4, 2, 5, 5, 1, 6, 7],\n",
       "       [6, 9, 9, 5, 9, 6, 1, 3],\n",
       "       [9, 9, 1, 0, 0, 5, 4, 2],\n",
       "       [7, 1, 8, 1, 4, 9, 4, 3],\n",
       "       [0, 5, 7, 5, 4, 5, 1, 2],\n",
       "       [5, 0, 2, 4, 1, 6, 5, 8],\n",
       "       [2, 8, 0, 4, 0, 3, 4, 4],\n",
       "       [4, 3, 9, 1, 3, 9, 4, 2],\n",
       "       [7, 9, 3, 0, 0, 9, 8, 0],\n",
       "       [9, 7, 0, 8, 1, 2, 4, 7],\n",
       "       [8, 7, 1, 4, 0, 5, 4, 3],\n",
       "       [9, 5, 2, 4, 3, 3, 5, 2],\n",
       "       [3, 7, 1, 5, 1, 3, 2, 3],\n",
       "       [2, 5, 2, 1, 1, 2, 7, 7],\n",
       "       [0, 6, 0, 1, 5, 4, 3, 1],\n",
       "       [5, 6, 6, 1, 0, 8, 3, 6],\n",
       "       [4, 7, 2, 0, 3, 9, 5, 4],\n",
       "       [0, 8, 6, 0, 6, 7, 6, 4],\n",
       "       [9, 3, 5, 3, 1, 9, 5, 7],\n",
       "       [3, 8, 7, 7, 0, 3, 3, 9],\n",
       "       [1, 8, 2, 6, 0, 4, 1, 3],\n",
       "       [7, 7, 4, 3, 3, 9, 1, 7],\n",
       "       [5, 3, 9, 9, 8, 4, 7, 9],\n",
       "       [2, 5, 7, 8, 3, 7, 0, 0],\n",
       "       [2, 8, 0, 7, 9, 4, 7, 8],\n",
       "       [8, 8, 3, 7, 3, 3, 5, 4],\n",
       "       [1, 6, 9, 0, 3, 3, 6, 4],\n",
       "       [9, 3, 8, 2, 6, 3, 3, 6],\n",
       "       [4, 2, 2, 8, 0, 4, 9, 5],\n",
       "       [2, 2, 6, 6, 2, 5, 0, 8],\n",
       "       [7, 8, 1, 2, 6, 4, 7, 4],\n",
       "       [6, 0, 3, 5, 1, 6, 8, 7],\n",
       "       [7, 3, 8, 0, 1, 5, 0, 9],\n",
       "       [3, 3, 9, 6, 8, 2, 8, 7],\n",
       "       [9, 6, 6, 3, 8, 0, 6, 8],\n",
       "       [7, 0, 1, 7, 1, 5, 0, 0],\n",
       "       [1, 2, 7, 9, 9, 0, 6, 4],\n",
       "       [1, 3, 0, 6, 6, 7, 0, 3],\n",
       "       [3, 1, 8, 7, 9, 4, 8, 4],\n",
       "       [2, 0, 4, 4, 2, 8, 0, 6],\n",
       "       [2, 8, 5, 5, 3, 5, 2, 8],\n",
       "       [7, 2, 8, 8, 5, 6, 4, 2],\n",
       "       [0, 4, 7, 9, 6, 1, 7, 3],\n",
       "       [3, 2, 0, 8, 9, 0, 1, 2],\n",
       "       [1, 1, 5, 3, 4, 5, 6, 1],\n",
       "       [5, 6, 8, 7, 7, 6, 0, 1],\n",
       "       [3, 7, 6, 2, 0, 1, 4, 7],\n",
       "       [5, 3, 7, 8, 9, 1, 0, 2],\n",
       "       [3, 6, 0, 0, 3, 2, 2, 8],\n",
       "       [8, 9, 2, 5, 7, 3, 0, 5],\n",
       "       [8, 7, 5, 6, 5, 6, 0, 7],\n",
       "       [1, 2, 2, 1, 7, 1, 3, 4],\n",
       "       [5, 1, 8, 7, 4, 7, 4, 4],\n",
       "       [0, 9, 3, 6, 3, 4, 5, 9],\n",
       "       [3, 0, 9, 3, 0, 3, 8, 3],\n",
       "       [5, 9, 5, 4, 0, 5, 2, 1],\n",
       "       [3, 3, 3, 7, 0, 2, 5, 4],\n",
       "       [5, 2, 0, 4, 8, 6, 3, 2],\n",
       "       [3, 6, 0, 3, 0, 7, 8, 1],\n",
       "       [6, 4, 8, 7, 7, 4, 9, 7],\n",
       "       [4, 9, 1, 3, 5, 5, 8, 5],\n",
       "       [3, 8, 0, 1, 2, 6, 7, 4],\n",
       "       [7, 0, 6, 9, 3, 4, 2, 2],\n",
       "       [9, 4, 1, 2, 9, 4, 8, 7],\n",
       "       [5, 8, 5, 3, 3, 6, 6, 3],\n",
       "       [9, 5, 7, 7, 6, 0, 3, 9],\n",
       "       [4, 9, 5, 4, 8, 7, 9, 1],\n",
       "       [6, 3, 0, 0, 8, 1, 4, 1],\n",
       "       [4, 7, 9, 0, 5, 8, 1, 9],\n",
       "       [7, 4, 3, 2, 9, 8, 8, 3],\n",
       "       [5, 8, 0, 3, 2, 0, 1, 4],\n",
       "       [8, 6, 1, 0, 0, 5, 8, 8],\n",
       "       [0, 8, 7, 8, 3, 0, 0, 5],\n",
       "       [7, 9, 7, 1, 4, 2, 3, 7],\n",
       "       [5, 7, 0, 6, 8, 1, 7, 8],\n",
       "       [9, 0, 3, 3, 8, 5, 8, 5],\n",
       "       [4, 6, 3, 7, 0, 8, 1, 7],\n",
       "       [4, 7, 1, 2, 6, 1, 8, 9],\n",
       "       [4, 2, 4, 2, 8, 4, 8, 9],\n",
       "       [8, 0, 3, 4, 0, 6, 8, 4],\n",
       "       [0, 7, 0, 7, 6, 9, 6, 7],\n",
       "       [9, 9, 2, 4, 9, 6, 9, 5],\n",
       "       [0, 5, 6, 0, 4, 5, 2, 8],\n",
       "       [0, 0, 6, 6, 1, 1, 2, 5],\n",
       "       [2, 3, 4, 6, 4, 0, 2, 0],\n",
       "       [3, 3, 0, 1, 4, 8, 3, 0],\n",
       "       [5, 9, 4, 0, 4, 5, 1, 3],\n",
       "       [0, 5, 1, 3, 3, 5, 8, 4],\n",
       "       [8, 7, 3, 4, 3, 2, 9, 0],\n",
       "       [1, 8, 2, 3, 8, 6, 8, 1],\n",
       "       [3, 2, 5, 1, 4, 6, 6, 7],\n",
       "       [4, 0, 1, 8, 2, 4, 4, 8],\n",
       "       [4, 0, 1, 2, 4, 4, 4, 5],\n",
       "       [9, 9, 7, 0, 1, 4, 9, 0]])"
      ]
     },
     "execution_count": 12,
     "metadata": {},
     "output_type": "execute_result"
    }
   ],
   "source": [
    "cols = 8\n",
    "X = np.random.randint(0, 10, size = (100,cols))\n",
    "Y = np.zeros(100)\n",
    "X"
   ]
  },
  {
   "cell_type": "code",
   "execution_count": 32,
   "metadata": {},
   "outputs": [
    {
     "name": "stdout",
     "output_type": "stream",
     "text": [
      "[0.84140184]\n"
     ]
    },
    {
     "data": {
      "text/plain": [
       "array([0.55342115, 7.86731169, 3.63738591, 1.53372195, 3.91127275,\n",
       "       3.92461272, 3.65003672, 0.99570872])"
      ]
     },
     "execution_count": 32,
     "metadata": {},
     "output_type": "execute_result"
    }
   ],
   "source": [
    "posit = np.random.rand()\n",
    "print posit\n",
    "weights = np.multiply(np.random.rand(X.shape[1]), np.random.randint(1, 10, size=(X.shape[1])))\n",
    "weights"
   ]
  },
  {
   "cell_type": "code",
   "execution_count": 28,
   "metadata": {},
   "outputs": [
    {
     "data": {
      "text/plain": [
       "\u001b[0;31mType:\u001b[0m        module\n",
       "\u001b[0;31mString form:\u001b[0m <module 'numpy.random' from '/usr/local/lib/python2.7/dist-packages/numpy/random/__init__.pyc'>\n",
       "\u001b[0;31mFile:\u001b[0m        /usr/local/lib/python2.7/dist-packages/numpy/random/__init__.py\n",
       "\u001b[0;31mDocstring:\u001b[0m  \n",
       "========================\n",
       "Random Number Generation\n",
       "========================\n",
       "\n",
       "==================== =========================================================\n",
       "Utility functions\n",
       "==============================================================================\n",
       "random_sample        Uniformly distributed floats over ``[0, 1)``.\n",
       "random               Alias for `random_sample`.\n",
       "bytes                Uniformly distributed random bytes.\n",
       "random_integers      Uniformly distributed integers in a given range.\n",
       "permutation          Randomly permute a sequence / generate a random sequence.\n",
       "shuffle              Randomly permute a sequence in place.\n",
       "seed                 Seed the random number generator.\n",
       "choice               Random sample from 1-D array.\n",
       "\n",
       "==================== =========================================================\n",
       "\n",
       "==================== =========================================================\n",
       "Compatibility functions\n",
       "==============================================================================\n",
       "rand                 Uniformly distributed values.\n",
       "randn                Normally distributed values.\n",
       "ranf                 Uniformly distributed floating point numbers.\n",
       "randint              Uniformly distributed integers in a given range.\n",
       "==================== =========================================================\n",
       "\n",
       "==================== =========================================================\n",
       "Univariate distributions\n",
       "==============================================================================\n",
       "beta                 Beta distribution over ``[0, 1]``.\n",
       "binomial             Binomial distribution.\n",
       "chisquare            :math:`\\chi^2` distribution.\n",
       "exponential          Exponential distribution.\n",
       "f                    F (Fisher-Snedecor) distribution.\n",
       "gamma                Gamma distribution.\n",
       "geometric            Geometric distribution.\n",
       "gumbel               Gumbel distribution.\n",
       "hypergeometric       Hypergeometric distribution.\n",
       "laplace              Laplace distribution.\n",
       "logistic             Logistic distribution.\n",
       "lognormal            Log-normal distribution.\n",
       "logseries            Logarithmic series distribution.\n",
       "negative_binomial    Negative binomial distribution.\n",
       "noncentral_chisquare Non-central chi-square distribution.\n",
       "noncentral_f         Non-central F distribution.\n",
       "normal               Normal / Gaussian distribution.\n",
       "pareto               Pareto distribution.\n",
       "poisson              Poisson distribution.\n",
       "power                Power distribution.\n",
       "rayleigh             Rayleigh distribution.\n",
       "triangular           Triangular distribution.\n",
       "uniform              Uniform distribution.\n",
       "vonmises             Von Mises circular distribution.\n",
       "wald                 Wald (inverse Gaussian) distribution.\n",
       "weibull              Weibull distribution.\n",
       "zipf                 Zipf's distribution over ranked data.\n",
       "==================== =========================================================\n",
       "\n",
       "==================== =========================================================\n",
       "Multivariate distributions\n",
       "==============================================================================\n",
       "dirichlet            Multivariate generalization of Beta distribution.\n",
       "multinomial          Multivariate generalization of the binomial distribution.\n",
       "multivariate_normal  Multivariate generalization of the normal distribution.\n",
       "==================== =========================================================\n",
       "\n",
       "==================== =========================================================\n",
       "Standard distributions\n",
       "==============================================================================\n",
       "standard_cauchy      Standard Cauchy-Lorentz distribution.\n",
       "standard_exponential Standard exponential distribution.\n",
       "standard_gamma       Standard Gamma distribution.\n",
       "standard_normal      Standard normal distribution.\n",
       "standard_t           Standard Student's t-distribution.\n",
       "==================== =========================================================\n",
       "\n",
       "==================== =========================================================\n",
       "Internal functions\n",
       "==============================================================================\n",
       "get_state            Get tuple representing internal state of generator.\n",
       "set_state            Set state of generator.\n",
       "==================== =========================================================\n"
      ]
     },
     "metadata": {},
     "output_type": "display_data"
    }
   ],
   "source": [
    "np.random?"
   ]
  },
  {
   "cell_type": "code",
   "execution_count": 23,
   "metadata": {},
   "outputs": [
    {
     "data": {
      "text/plain": [
       "array([0.08871896, 0.47410687, 0.72672105, 0.16795896, 0.89981955,\n",
       "       0.56852626, 0.77648882, 0.76120069])"
      ]
     },
     "execution_count": 23,
     "metadata": {},
     "output_type": "execute_result"
    }
   ],
   "source": [
    "np.random.rand(X.shape[1])"
   ]
  },
  {
   "cell_type": "code",
   "execution_count": null,
   "metadata": {},
   "outputs": [],
   "source": []
  }
 ],
 "metadata": {
  "kernelspec": {
   "display_name": "Python 2",
   "language": "python",
   "name": "python2"
  },
  "language_info": {
   "codemirror_mode": {
    "name": "ipython",
    "version": 2
   },
   "file_extension": ".py",
   "mimetype": "text/x-python",
   "name": "python",
   "nbconvert_exporter": "python",
   "pygments_lexer": "ipython2",
   "version": "2.7.12"
  }
 },
 "nbformat": 4,
 "nbformat_minor": 2
}
