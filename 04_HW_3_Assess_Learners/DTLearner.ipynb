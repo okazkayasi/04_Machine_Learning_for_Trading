{
 "cells": [
  {
   "cell_type": "code",
   "execution_count": 5,
   "metadata": {},
   "outputs": [],
   "source": [
    "import pandas as pd\n",
    "import numpy as np\n",
    "import os"
   ]
  },
  {
   "cell_type": "code",
   "execution_count": 8,
   "metadata": {},
   "outputs": [],
   "source": [
    "\n",
    "def get_learner_data_file(basefilename):\n",
    "    return open(os.path.join(os.environ.get(\"LEARNER_DATA_DIR\",'Data/'),basefilename),'r')\n",
    "\n"
   ]
  },
  {
   "cell_type": "code",
   "execution_count": 9,
   "metadata": {},
   "outputs": [],
   "source": [
    "datafile = 'simple.csv'\n",
    "with get_learner_data_file(datafile) as f:\n",
    "    alldata = np.genfromtxt(f,delimiter=',')\n",
    "    if datafile == 'Istanbul.csv':\n",
    "        alldata = alldata[1:,1:]\n",
    "    datasize = alldata.shape[0]\n",
    "    # cutoff = int(datasize*0.6)\n",
    "    # permutation = np.random.permutation(alldata.shape[0])\n",
    "    # col_permutation = np.random.permutation(alldata.shape[1]-1)\n",
    "    # train_data = alldata[permutation[:cutoff],:]\n",
    "    # trainX = train_data[:,:-1]\n",
    "    train_data = alldata\n",
    "    trainX = train_data[:,:-1]\n",
    "    trainY = train_data[:,-1]\n",
    "    # testX = test_data[:,:-1]\n",
    "    testX = trainX\n",
    "    testY = testX"
   ]
  },
  {
   "cell_type": "code",
   "execution_count": 15,
   "metadata": {},
   "outputs": [],
   "source": [
    "def get_best_corr(Xtrain, Ytrain):\n",
    "    x = np.transpose(Xtrain)\n",
    "    y = np.transpose(Ytrain)\n",
    "    mat = np.corrcoef(x, y)\n",
    "    mat = np.abs(mat[-1])\n",
    "    return np.nanargmax(mat[:-1])"
   ]
  },
  {
   "cell_type": "code",
   "execution_count": 16,
   "metadata": {},
   "outputs": [
    {
     "data": {
      "text/plain": [
       "array([[1., 2.],\n",
       "       [2., 1.],\n",
       "       [3., 3.],\n",
       "       [5., 0.],\n",
       "       [0., 5.],\n",
       "       [1., 2.],\n",
       "       [2., 1.],\n",
       "       [3., 3.],\n",
       "       [5., 0.],\n",
       "       [0., 5.],\n",
       "       [1., 2.],\n",
       "       [2., 1.],\n",
       "       [3., 3.],\n",
       "       [5., 0.],\n",
       "       [0., 5.],\n",
       "       [1., 2.],\n",
       "       [2., 1.],\n",
       "       [3., 3.],\n",
       "       [5., 0.],\n",
       "       [0., 5.],\n",
       "       [1., 2.],\n",
       "       [2., 1.],\n",
       "       [3., 3.],\n",
       "       [5., 0.],\n",
       "       [0., 5.],\n",
       "       [1., 2.],\n",
       "       [2., 1.],\n",
       "       [3., 3.],\n",
       "       [5., 0.],\n",
       "       [0., 5.],\n",
       "       [1., 2.],\n",
       "       [2., 1.],\n",
       "       [3., 3.],\n",
       "       [5., 0.],\n",
       "       [0., 5.],\n",
       "       [1., 2.],\n",
       "       [2., 1.],\n",
       "       [3., 3.],\n",
       "       [5., 0.],\n",
       "       [0., 5.],\n",
       "       [1., 2.],\n",
       "       [2., 1.],\n",
       "       [3., 3.],\n",
       "       [5., 0.],\n",
       "       [0., 5.],\n",
       "       [1., 2.],\n",
       "       [2., 1.],\n",
       "       [3., 3.],\n",
       "       [5., 0.],\n",
       "       [0., 5.]])"
      ]
     },
     "execution_count": 16,
     "metadata": {},
     "output_type": "execute_result"
    }
   ],
   "source": [
    "trainX"
   ]
  },
  {
   "cell_type": "code",
   "execution_count": 17,
   "metadata": {},
   "outputs": [
    {
     "data": {
      "text/plain": [
       "1"
      ]
     },
     "execution_count": 17,
     "metadata": {},
     "output_type": "execute_result"
    }
   ],
   "source": [
    "split_ind = get_best_corr(trainX, trainY)\n",
    "split_ind"
   ]
  },
  {
   "cell_type": "code",
   "execution_count": 19,
   "metadata": {},
   "outputs": [],
   "source": [
    "split_val = np.median(trainX[:,split_ind])"
   ]
  },
  {
   "cell_type": "code",
   "execution_count": 27,
   "metadata": {},
   "outputs": [
    {
     "data": {
      "text/plain": [
       "array([35, 46,  0,  2, 37, 14,  1, 40, 36, 35, 45, 42, 15, 47, 16,  9, 40,\n",
       "       26,  3, 22, 28, 42, 35, 37, 18, 22,  5, 13,  0, 13, 44, 26, 27, 37,\n",
       "       39,  7,  5, 35, 15, 47,  7, 13, 17, 23, 32, 15, 39, 38, 48,  9])"
      ]
     },
     "execution_count": 27,
     "metadata": {},
     "output_type": "execute_result"
    }
   ],
   "source": [
    "permed = np.random.randint(0, high=trainX.shape[0], size=(trainX.shape[0]))\n",
    "permed\n"
   ]
  },
  {
   "cell_type": "code",
   "execution_count": 34,
   "metadata": {},
   "outputs": [
    {
     "data": {
      "text/plain": [
       "array([ 6.,  5.,  6., 10., 10., 11.,  5.,  6.,  5.,  6.,  6., 10.,  6.,\n",
       "       10.,  5., 11.,  6.,  5.,  6., 10.,  6., 10.,  6., 10.,  6., 10.,\n",
       "        6.,  6.,  6.,  6., 11.,  5., 10., 10., 11., 10.,  6.,  6.,  6.,\n",
       "       10., 10.,  6., 10.,  6., 10.,  6., 11.,  6.,  6., 11.])"
      ]
     },
     "execution_count": 34,
     "metadata": {},
     "output_type": "execute_result"
    }
   ],
   "source": [
    "trainY[permed]"
   ]
  },
  {
   "cell_type": "code",
   "execution_count": 41,
   "metadata": {},
   "outputs": [
    {
     "data": {
      "text/plain": [
       "11.0"
      ]
     },
     "execution_count": 41,
     "metadata": {},
     "output_type": "execute_result"
    }
   ],
   "source": [
    "trainY[14]"
   ]
  },
  {
   "cell_type": "code",
   "execution_count": 28,
   "metadata": {},
   "outputs": [
    {
     "data": {
      "text/plain": [
       "array([[1., 2.],\n",
       "       [2., 1.],\n",
       "       [1., 2.],\n",
       "       [3., 3.],\n",
       "       [3., 3.],\n",
       "       [0., 5.],\n",
       "       [2., 1.],\n",
       "       [1., 2.],\n",
       "       [2., 1.],\n",
       "       [1., 2.],\n",
       "       [1., 2.],\n",
       "       [3., 3.],\n",
       "       [1., 2.],\n",
       "       [3., 3.],\n",
       "       [2., 1.],\n",
       "       [0., 5.],\n",
       "       [1., 2.],\n",
       "       [2., 1.],\n",
       "       [5., 0.],\n",
       "       [3., 3.],\n",
       "       [5., 0.],\n",
       "       [3., 3.],\n",
       "       [1., 2.],\n",
       "       [3., 3.],\n",
       "       [5., 0.],\n",
       "       [3., 3.],\n",
       "       [1., 2.],\n",
       "       [5., 0.],\n",
       "       [1., 2.],\n",
       "       [5., 0.],\n",
       "       [0., 5.],\n",
       "       [2., 1.],\n",
       "       [3., 3.],\n",
       "       [3., 3.],\n",
       "       [0., 5.],\n",
       "       [3., 3.],\n",
       "       [1., 2.],\n",
       "       [1., 2.],\n",
       "       [1., 2.],\n",
       "       [3., 3.],\n",
       "       [3., 3.],\n",
       "       [5., 0.],\n",
       "       [3., 3.],\n",
       "       [5., 0.],\n",
       "       [3., 3.],\n",
       "       [1., 2.],\n",
       "       [0., 5.],\n",
       "       [5., 0.],\n",
       "       [5., 0.],\n",
       "       [0., 5.]])"
      ]
     },
     "execution_count": 28,
     "metadata": {},
     "output_type": "execute_result"
    }
   ],
   "source": [
    "trainX[permed, :]"
   ]
  },
  {
   "cell_type": "code",
   "execution_count": null,
   "metadata": {},
   "outputs": [],
   "source": []
  }
 ],
 "metadata": {
  "kernelspec": {
   "display_name": "Python 2",
   "language": "python",
   "name": "python2"
  },
  "language_info": {
   "codemirror_mode": {
    "name": "ipython",
    "version": 2
   },
   "file_extension": ".py",
   "mimetype": "text/x-python",
   "name": "python",
   "nbconvert_exporter": "python",
   "pygments_lexer": "ipython2",
   "version": "2.7.12"
  }
 },
 "nbformat": 4,
 "nbformat_minor": 2
}
