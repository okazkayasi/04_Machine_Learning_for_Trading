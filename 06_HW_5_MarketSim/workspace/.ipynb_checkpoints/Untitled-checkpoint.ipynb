{
 "cells": [
  {
   "cell_type": "code",
   "execution_count": 121,
   "metadata": {},
   "outputs": [],
   "source": [
    "import pandas as pd\n",
    "import numpy as np\n",
    "import datetime as dt\n",
    "import os\n",
    "from util import get_data, plot_data"
   ]
  },
  {
   "cell_type": "code",
   "execution_count": 244,
   "metadata": {},
   "outputs": [],
   "source": [
    "orders_file = \"./orders-03.csv\"\n",
    "start_val = 1000000"
   ]
  },
  {
   "cell_type": "code",
   "execution_count": 245,
   "metadata": {},
   "outputs": [],
   "source": [
    "# read the csv \n",
    "orders_df = pd.read_csv(orders_file, index_col='Date', parse_dates=True, na_values=['nan'])"
   ]
  },
  {
   "cell_type": "code",
   "execution_count": 246,
   "metadata": {},
   "outputs": [],
   "source": [
    "orders_df.sort_index(inplace=True)"
   ]
  },
  {
   "cell_type": "code",
   "execution_count": 247,
   "metadata": {},
   "outputs": [
    {
     "name": "stdout",
     "output_type": "stream",
     "text": [
      "2011-12-20 00:00:00 2011-01-10 00:00:00\n"
     ]
    }
   ],
   "source": [
    "end_date = orders_df.index.max()\n",
    "start_date = orders_df.index.min()\n",
    "print end_date, start_date"
   ]
  },
  {
   "cell_type": "code",
   "execution_count": 248,
   "metadata": {},
   "outputs": [],
   "source": [
    "stocks = list(orders_df.Symbol.drop_duplicates().values)\n",
    "adj_close = get_data(stocks, pd.date_range(start_date, end_date))\n",
    "adj_close = adj_close.fillna(method='ffill')\n",
    "adj_close = adj_close.fillna(method='bfill')\n"
   ]
  },
  {
   "cell_type": "code",
   "execution_count": 249,
   "metadata": {},
   "outputs": [],
   "source": [
    "date_list = adj_close.index\n",
    "date_list = list(date_list)\n"
   ]
  },
  {
   "cell_type": "code",
   "execution_count": 250,
   "metadata": {},
   "outputs": [
    {
     "name": "stdout",
     "output_type": "stream",
     "text": [
      "AAPL 2011-01-10 00:00:00 340.99 BUY 1500\n",
      "AAPL 2011-01-13 00:00:00 344.2 BUY 1500\n",
      "GOOG 2011-01-26 00:00:00 616.5 BUY 1000\n",
      "XOM 2011-02-02 00:00:00 79.96 SELL 4000\n",
      "XOM 2011-02-10 00:00:00 80.18 BUY 4000\n",
      "GOOG 2011-03-03 00:00:00 609.56 SELL 1000\n",
      "IBM 2011-03-03 00:00:00 159.42 SELL 1200\n",
      "IBM 2011-05-03 00:00:00 168.58 BUY 1500\n",
      "IBM 2011-06-03 00:00:00 161.67 SELL 3300\n",
      "AAPL 2011-06-10 00:00:00 324.51 SELL 3000\n",
      "GOOG 2011-08-01 00:00:00 606.77 BUY 55\n",
      "GOOG 2011-08-01 00:00:00 606.77 BUY 55\n",
      "GOOG 2011-12-20 00:00:00 630.37 SELL 110\n",
      "            Portfolio Value\n",
      "2011-01-10        1000000.0\n",
      "2011-01-11         998785.0\n",
      "2011-01-12        1002940.0\n",
      "2011-01-13        1004815.0\n",
      "2011-01-14        1013185.0\n",
      "2011-01-18         989785.0\n",
      "2011-01-19         984385.0\n",
      "2011-01-20         965995.0\n",
      "2011-01-21         948175.0\n",
      "2011-01-24         980245.0\n",
      "2011-01-25         992035.0\n",
      "2011-01-26         999355.0\n",
      "2011-01-27         997725.0\n",
      "2011-01-28         960685.0\n",
      "2011-01-31         969685.0\n",
      "2011-02-01         997405.0\n",
      "2011-02-02         996265.0\n",
      "2011-02-03         991655.0\n",
      "2011-02-04        1002235.0\n",
      "2011-02-07        1019145.0\n",
      "2011-02-08        1035095.0\n",
      "2011-02-09        1043745.0\n",
      "2011-02-10        1030335.0\n",
      "2011-02-11        1045295.0\n",
      "2011-02-14        1055905.0\n",
      "2011-02-15        1054065.0\n",
      "2011-02-16        1063795.0\n",
      "2011-02-17        1050405.0\n",
      "2011-02-18        1032095.0\n",
      "2011-02-22         976525.0\n",
      "...                     ...\n",
      "2011-11-08         855602.7\n",
      "2011-11-09         869199.8\n",
      "2011-11-10         865284.1\n",
      "2011-11-11         854803.8\n",
      "2011-11-14         855405.3\n",
      "2011-11-15         851626.9\n",
      "2011-11-16         857397.0\n",
      "2011-11-17         858871.0\n",
      "2011-11-18         859652.1\n",
      "2011-11-21         869248.7\n",
      "2011-11-22         869655.3\n",
      "2011-11-23         878527.4\n",
      "2011-11-25         880385.3\n",
      "2011-11-28         867886.2\n",
      "2011-11-29         871087.6\n",
      "2011-11-30         851958.2\n",
      "2011-12-01         849250.0\n",
      "2011-12-02         849344.9\n",
      "2011-12-05         846446.8\n",
      "2011-12-06         840000.0\n",
      "2011-12-07         836688.2\n",
      "2011-12-08         843200.8\n",
      "2011-12-09         835601.5\n",
      "2011-12-12         842428.2\n",
      "2011-12-13         845514.6\n",
      "2011-12-14         851883.0\n",
      "2011-12-15         855734.7\n",
      "2011-12-16         868020.9\n",
      "2011-12-19         869576.6\n",
      "2011-12-20         857616.0\n",
      "\n",
      "[240 rows x 1 columns]\n"
     ]
    }
   ],
   "source": [
    "comm = 0.\n",
    "imp = 0.\n",
    "ret_df = pd.DataFrame(columns=[\"Portfolio Value\"], index=date_list)\n",
    "emp = np.zeros(len(date_list))\n",
    "adj_ind = 0\n",
    "order_ind = 0\n",
    "order_len = len(orders_df.index)\n",
    "start_val = 1000000\n",
    "my_port = Portfolio(start_val, comm, imp, stocks, len(date_list))\n",
    "while adj_ind < len(date_list):\n",
    "    \n",
    "    while order_ind < order_len and orders_df.index[order_ind] == adj_close.index[adj_ind]:\n",
    "        \n",
    "        sym = orders_df.Symbol.iloc[order_ind]\n",
    "        dat = date_list[adj_ind]\n",
    "        price = adj_close[sym].loc[dat]\n",
    "        buy = orders_df.Order.iloc[order_ind]\n",
    "        num = orders_df.Shares.iloc[order_ind]\n",
    "        print sym, dat, price, buy, num\n",
    "        if buy == \"BUY\":\n",
    "            my_port.buy_stock(sym, price, num, adj_ind+1)\n",
    "        else:\n",
    "            my_port.sell_stock(sym, price, num, adj_ind+1)\n",
    "    \n",
    "        order_ind += 1\n",
    "\n",
    "    emp[adj_ind] = my_port.port_value(adj_close.iloc[adj_ind], adj_ind+1)\n",
    "    adj_ind += 1\n",
    "\n",
    "    \n",
    "ret_df[\"Portfolio Value\"] = emp\n",
    "print ret_df"
   ]
  },
  {
   "cell_type": "code",
   "execution_count": 251,
   "metadata": {},
   "outputs": [],
   "source": [
    "class Portfolio:\n",
    "    \n",
    "    def __init__(self, cash=0, comm=0, imp=0, stocks=[], lenn=0):\n",
    "        self.stocks = stocks\n",
    "        self.commission = comm\n",
    "        self.impact = imp\n",
    "        self.arr = np.zeros((lenn+1, len(stocks)+2))\n",
    "        self.arr[0, -2] = cash\n",
    "        self.arr[0, -1] = cash\n",
    "        \n",
    "   \n",
    "    \n",
    "    def buy_stock(self, stock_name, price, number_of_shares, indexx):\n",
    "        \n",
    "    \n",
    "        cash_ind = -2\n",
    "        port_ind = -1\n",
    "        \n",
    "        stock_ind = self.stocks.index(stock_name)\n",
    "        \n",
    "        \n",
    "        self.arr[indexx, stock_ind] = self.arr[0, stock_ind]\n",
    "        self.arr[indexx, stock_ind] += number_of_shares\n",
    "        self.arr[0, stock_ind] = self.arr[indexx, stock_ind]\n",
    "        \n",
    "        \n",
    "        self.arr[indexx, cash_ind] = self.arr[0, cash_ind]\n",
    "        self.arr[indexx, cash_ind] -= price * number_of_shares\n",
    "        self.arr[0, cash_ind] = self.arr[indexx, cash_ind]\n",
    "    \n",
    "        \n",
    "        self.arr[indexx, cash_ind] -= self.commission\n",
    "        self.arr[indexx, cash_ind] -= self.impact * number_of_shares * price\n",
    "        \n",
    "        \n",
    "    \n",
    "    def sell_stock(self, stock_name, price, number_of_shares, indexx):\n",
    "        # if I already have it\n",
    "        \n",
    "        cash_ind = -2\n",
    "        port_ind = -1\n",
    "        \n",
    "        stock_ind = self.stocks.index(stock_name)\n",
    "        \n",
    "        \n",
    "        self.arr[indexx, stock_ind] = self.arr[0, stock_ind]\n",
    "        self.arr[indexx, stock_ind] -= number_of_shares\n",
    "        self.arr[0, stock_ind] = self.arr[indexx, stock_ind]\n",
    "        \n",
    "        self.arr[indexx, cash_ind] = self.arr[0, cash_ind]\n",
    "        self.arr[indexx, cash_ind] += price * number_of_shares\n",
    "        self.arr[0, cash_ind] = self.arr[indexx, cash_ind]\n",
    "        \n",
    "        \n",
    "            \n",
    "        self.arr[indexx, cash_ind] -= self.commission\n",
    "        self.arr[indexx, cash_ind] -= self.impact * number_of_shares * price\n",
    "    \n",
    "    def port_value(self, adj_close, indexx):\n",
    "\n",
    "        val = self.arr[0, -2]        \n",
    "        self.arr[indexx, :] = self.arr[0, :]\n",
    "        \n",
    "        for stock in self.stocks:\n",
    "            price = adj_close[stock]\n",
    "            stock_ind = self.stocks.index(stock)\n",
    "            num = self.arr[indexx, stock_ind]\n",
    "            \n",
    "            val += num * price\n",
    "        \n",
    "        self.arr[indexx, -1] = val\n",
    "        return val\n",
    "            \n",
    "    "
   ]
  },
  {
   "cell_type": "code",
   "execution_count": 225,
   "metadata": {},
   "outputs": [
    {
     "data": {
      "text/plain": [
       "array([[-1.48000000e+03,  0.00000000e+00,  5.50000000e+01,\n",
       "         0.00000000e+00,  1.65318145e+06,  1.00000000e+06],\n",
       "       [ 0.00000000e+00,  0.00000000e+00,  0.00000000e+00,\n",
       "         0.00000000e+00,  1.00000000e+06,  1.00000000e+06],\n",
       "       [ 0.00000000e+00,  0.00000000e+00,  0.00000000e+00,\n",
       "         0.00000000e+00,  1.00000000e+06,  1.00000000e+06],\n",
       "       [ 0.00000000e+00,  0.00000000e+00,  0.00000000e+00,\n",
       "         0.00000000e+00,  1.00000000e+06,  1.00000000e+06],\n",
       "       [-1.50000000e+03,  4.00000000e+03,  0.00000000e+00,\n",
       "         0.00000000e+00,  9.38100000e+05,  1.00000000e+06],\n",
       "       [ 0.00000000e+00,  0.00000000e+00,  0.00000000e+00,\n",
       "         0.00000000e+00,  9.38100000e+05,  9.38100000e+05],\n",
       "       [ 0.00000000e+00,  0.00000000e+00,  0.00000000e+00,\n",
       "         0.00000000e+00,  9.38100000e+05,  9.38100000e+05],\n",
       "       [ 0.00000000e+00,  0.00000000e+00,  0.00000000e+00,\n",
       "         0.00000000e+00,  9.38100000e+05,  9.38100000e+05],\n",
       "       [ 0.00000000e+00,  0.00000000e+00,  0.00000000e+00,\n",
       "         0.00000000e+00,  9.38100000e+05,  9.38100000e+05],\n",
       "       [ 0.00000000e+00,  0.00000000e+00,  0.00000000e+00,\n",
       "         0.00000000e+00,  9.38100000e+05,  9.38100000e+05],\n",
       "       [ 0.00000000e+00,  0.00000000e+00,  0.00000000e+00,\n",
       "         0.00000000e+00,  9.38100000e+05,  9.38100000e+05],\n",
       "       [ 0.00000000e+00,  0.00000000e+00,  0.00000000e+00,\n",
       "         0.00000000e+00,  9.38100000e+05,  9.38100000e+05],\n",
       "       [ 0.00000000e+00,  0.00000000e+00,  1.00000000e+03,\n",
       "         0.00000000e+00,  3.21600000e+05,  9.38100000e+05],\n",
       "       [ 0.00000000e+00,  0.00000000e+00,  0.00000000e+00,\n",
       "         0.00000000e+00,  3.21600000e+05,  3.21600000e+05],\n",
       "       [ 0.00000000e+00,  0.00000000e+00,  0.00000000e+00,\n",
       "         0.00000000e+00,  3.21600000e+05,  3.21600000e+05],\n",
       "       [ 0.00000000e+00,  0.00000000e+00,  0.00000000e+00,\n",
       "         0.00000000e+00,  3.21600000e+05,  3.21600000e+05],\n",
       "       [ 0.00000000e+00,  0.00000000e+00,  0.00000000e+00,\n",
       "         0.00000000e+00,  3.21600000e+05,  3.21600000e+05],\n",
       "       [ 0.00000000e+00,  0.00000000e+00,  0.00000000e+00,\n",
       "        -4.00000000e+03,  6.41440000e+05,  3.21600000e+05],\n",
       "       [ 0.00000000e+00,  0.00000000e+00,  0.00000000e+00,\n",
       "         0.00000000e+00,  6.41440000e+05,  6.41440000e+05],\n",
       "       [ 0.00000000e+00,  0.00000000e+00,  0.00000000e+00,\n",
       "         0.00000000e+00,  6.41440000e+05,  6.41440000e+05]])"
      ]
     },
     "execution_count": 225,
     "metadata": {},
     "output_type": "execute_result"
    }
   ],
   "source": [
    "my_port.arr[:20]"
   ]
  },
  {
   "cell_type": "code",
   "execution_count": 203,
   "metadata": {},
   "outputs": [
    {
     "ename": "SyntaxError",
     "evalue": "invalid syntax (<ipython-input-203-2410da17ecf8>, line 1)",
     "output_type": "error",
     "traceback": [
      "\u001b[0;36m  File \u001b[0;32m\"<ipython-input-203-2410da17ecf8>\"\u001b[0;36m, line \u001b[0;32m1\u001b[0m\n\u001b[0;31m    my_port.stocks{'AAPL': [-1480, 384.248], 'GOOG': [55, 606.77]}\u001b[0m\n\u001b[0m                  ^\u001b[0m\n\u001b[0;31mSyntaxError\u001b[0m\u001b[0;31m:\u001b[0m invalid syntax\n"
     ]
    }
   ],
   "source": [
    "my_port"
   ]
  },
  {
   "cell_type": "code",
   "execution_count": 81,
   "metadata": {},
   "outputs": [
    {
     "data": {
      "text/plain": [
       "3"
      ]
     },
     "execution_count": 81,
     "metadata": {},
     "output_type": "execute_result"
    }
   ],
   "source": [
    "a['b'][0]"
   ]
  },
  {
   "cell_type": "code",
   "execution_count": 83,
   "metadata": {},
   "outputs": [
    {
     "name": "stdout",
     "output_type": "stream",
     "text": [
      "(3, 200.0)\n"
     ]
    }
   ],
   "source": [
    "for x in a:\n",
    "    print a[x]"
   ]
  },
  {
   "cell_type": "code",
   "execution_count": null,
   "metadata": {},
   "outputs": [],
   "source": []
  }
 ],
 "metadata": {
  "kernelspec": {
   "display_name": "Python 2",
   "language": "python",
   "name": "python2"
  },
  "language_info": {
   "codemirror_mode": {
    "name": "ipython",
    "version": 2
   },
   "file_extension": ".py",
   "mimetype": "text/x-python",
   "name": "python",
   "nbconvert_exporter": "python",
   "pygments_lexer": "ipython2",
   "version": "2.7.15"
  }
 },
 "nbformat": 4,
 "nbformat_minor": 2
}
