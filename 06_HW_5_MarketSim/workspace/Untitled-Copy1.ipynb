{
 "cells": [
  {
   "cell_type": "code",
   "execution_count": 1,
   "metadata": {},
   "outputs": [],
   "source": [
    "import pandas as pd\n",
    "import numpy as np\n",
    "import datetime as dt\n",
    "import os\n",
    "from util import get_data, plot_data"
   ]
  },
  {
   "cell_type": "code",
   "execution_count": 2,
   "metadata": {},
   "outputs": [],
   "source": [
    "orders_file = \"./orders-01.csv\"\n",
    "start_val = 1000000"
   ]
  },
  {
   "cell_type": "code",
   "execution_count": 137,
   "metadata": {},
   "outputs": [],
   "source": [
    "# read the csv \n",
    "orders = pd.read_csv(orders_file)\n",
    "dates = [dt.datetime.strptime(x, '%Y-%m-%d') for x in orders.Date.values]\n",
    "orders.Date = dates"
   ]
  },
  {
   "cell_type": "code",
   "execution_count": 138,
   "metadata": {},
   "outputs": [],
   "source": [
    "# set buy column\n",
    "buy = [True if x == 'BUY' else False for x in orders.Order.values]\n",
    "orders.Order = buy"
   ]
  },
  {
   "cell_type": "code",
   "execution_count": 139,
   "metadata": {},
   "outputs": [
    {
     "data": {
      "text/plain": [
       "['AAPL']"
      ]
     },
     "execution_count": 139,
     "metadata": {},
     "output_type": "execute_result"
    }
   ],
   "source": [
    "end = orders.Date.max()\n",
    "start = orders.Date.min()\n",
    "setted = {x for x in orders.Symbol.values}\n",
    "setted = list(setted)\n",
    "setted"
   ]
  },
  {
   "cell_type": "code",
   "execution_count": 140,
   "metadata": {},
   "outputs": [],
   "source": [
    "adj_close = get_data(setted, pd.date_range(start, end))\n",
    "adj_close = adj_close[setted]\n"
   ]
  },
  {
   "cell_type": "code",
   "execution_count": 141,
   "metadata": {},
   "outputs": [
    {
     "data": {
      "text/plain": [
       "DatetimeIndex(['2011-01-05'], dtype='datetime64[ns]', freq='D')"
      ]
     },
     "execution_count": 141,
     "metadata": {},
     "output_type": "execute_result"
    }
   ],
   "source": [
    "date_list = adj_close.index\n",
    "date_list.strftime('%Y-%m-%d')\n",
    "date_list"
   ]
  },
  {
   "cell_type": "code",
   "execution_count": 142,
   "metadata": {},
   "outputs": [],
   "source": [
    "orders.sort_values([\"Date\"], inplace=True)\n",
    "orders.reset_index(drop=True, inplace=True)"
   ]
  },
  {
   "cell_type": "code",
   "execution_count": 143,
   "metadata": {
    "scrolled": true
   },
   "outputs": [
    {
     "name": "stdout",
     "output_type": "stream",
     "text": [
      "AAPL 2011-01-05 00:00:00 332.57 True 1500\n",
      "AAPL 2011-01-05 00:00:00 332.57 False 1500\n",
      "            Portfolio Value\n",
      "2011-01-05        994991.55\n"
     ]
    }
   ],
   "source": [
    "comm = 9.95\n",
    "imp = 0.005\n",
    "ret_df = pd.DataFrame(columns=[\"Portfolio Value\"], index=date_list)\n",
    "emp = np.zeros(len(date_list))\n",
    "adj_ind = 0\n",
    "order_ind = 0\n",
    "order_len = orders.index.max()+1\n",
    "start_val = 1000000\n",
    "my_port = Portfolio(start_val, {}, comm, imp)\n",
    "while adj_ind < len(date_list):\n",
    "    \n",
    "    while order_ind < order_len and orders.Date[order_ind] == adj_close.index[adj_ind]:\n",
    "        \n",
    "        sym = orders.Symbol.iloc[order_ind]\n",
    "        dat = date_list[adj_ind]\n",
    "        price = adj_close[sym].loc[dat]\n",
    "        buy = orders.Order.iloc[order_ind]\n",
    "        num = orders.Shares.iloc[order_ind]\n",
    "        print sym, dat, price, buy, num\n",
    "        if buy:\n",
    "            my_port.buy_stock(sym, price, num)\n",
    "        else:\n",
    "            my_port.sell_stock(sym, price, num)\n",
    "    \n",
    "        order_ind += 1\n",
    "    \n",
    "    \n",
    "    \n",
    "    \n",
    "    \n",
    "    emp[adj_ind] = my_port.port_value(adj_close.iloc[adj_ind])\n",
    "    adj_ind += 1\n",
    "\n",
    "ret_df[\"Portfolio Value\"] = emp\n",
    "print ret_df\n",
    "    "
   ]
  },
  {
   "cell_type": "code",
   "execution_count": 144,
   "metadata": {},
   "outputs": [],
   "source": [
    "class Portfolio:\n",
    "    \n",
    "    def __init__(self, cash=0, a={}, comm=0, imp=0):\n",
    "        self.cash = cash\n",
    "        self.stocks = a\n",
    "        self.commission = comm\n",
    "        self.impact = imp\n",
    "        \n",
    "    def buy_stock(self, stock_name, price, number_of_shares):\n",
    "        # if I already have it\n",
    "        if stock_name in self.stocks:\n",
    "            \n",
    "            # if I am shorting\n",
    "            if self.stocks[stock_name][0] < 0:\n",
    "                shorted = self.stocks[stock_name][0] * -1\n",
    "                avg = self.stocks[stock_name][1]\n",
    "                \n",
    "                # if I buy less than shorted\n",
    "                if number_of_shares <= shorted:          \n",
    "                    self.cash += number_of_shares * avg\n",
    "                    self.cash -= number_of_shares * price\n",
    "                    self.stocks[stock_name][0] = -1 * shorted + number_of_shares\n",
    "                    \n",
    "                    # if I have exactly 0 share delete it\n",
    "                    if self.stocks[stock_name][0] == 0:\n",
    "                        del self.stocks[stock_name]\n",
    "                \n",
    "                # if I buy more than shorted\n",
    "                elif number_of_shares > shorted:\n",
    "                    self.cash += shorted * avg\n",
    "                    self.cash -= shorted * price\n",
    "                    # i will have more than 0 \n",
    "                    leftover = number_of_shares - shorted\n",
    "                    self.cash -= leftover * price\n",
    "                    self.stocks[stock_name] = [leftover, price]\n",
    "                    \n",
    "            # if I am longing\n",
    "            elif self.stocks[stock_name][0] > 0:\n",
    "                longed = self.stocks[stock_name][0]\n",
    "                avg = self.stocks[stock_name][1]\n",
    "                new_avg = (longed * avg + price * number_of_shares)/(longed+number_of_shares)\n",
    "                self.cash -= number_of_shares * price\n",
    "                self.stocks[stock_name] = [longed + number_of_shares, new_avg]   \n",
    "                \n",
    "        # if I don't have it\n",
    "        else:\n",
    "            self.stocks[stock_name] = [number_of_shares, price]\n",
    "            self.cash -= number_of_shares * price\n",
    "        \n",
    "        self.cash -= self.commission\n",
    "        self.cash -= self.impact * number_of_shares * price\n",
    "            \n",
    "    def sell_stock(self, stock_name, price, number_of_shares):\n",
    "        # if I already have it\n",
    "        if stock_name in self.stocks:\n",
    "            \n",
    "            # if I am longing\n",
    "            if self.stocks[stock_name][0] > 0:\n",
    "                longed = self.stocks[stock_name][0]\n",
    "                avg = self.stocks[stock_name][1]\n",
    "                \n",
    "                # if I sell less than longed\n",
    "                if number_of_shares <= longed:                \n",
    "                    self.cash += number_of_shares * price\n",
    "                    self.stocks[stock_name] = [longed - number_of_shares, avg]\n",
    "                    \n",
    "                    # if I have exactly 0 share delete it\n",
    "                    if self.stocks[stock_name][0] == 0:\n",
    "                        del self.stocks[stock_name]\n",
    "                \n",
    "                # if I sell more than longed\n",
    "                elif number_of_shares > longed:\n",
    "                    self.cash += longed * price\n",
    "                    # i will have more than 0 I am shorting here\n",
    "                    leftover = number_of_shares - longed\n",
    "                    self.stocks[stock_name] = [-leftover, price]\n",
    "                    \n",
    "            # if I am shorting\n",
    "            elif self.stocks[stock_name][0] < 0:\n",
    "                shorted = self.stocks[stock_name][0] \n",
    "                avg = self.stocks[stock_name][1]\n",
    "                new_avg = (-1*shorted*avg + price*number_of_shares)/(-1*shorted+number_of_shares)\n",
    "                self.stocks[stock_name] = [shorted - number_of_shares,  new_avg]  \n",
    "                \n",
    "        # if I don't have it\n",
    "        else:\n",
    "            self.stocks[stock_name] = [-1 * number_of_shares, price] \n",
    "            \n",
    "        self.cash -= self.commission\n",
    "        self.cash -= self.impact * number_of_shares * price\n",
    "    \n",
    "    def port_value(self, adj_close):\n",
    "        val = self.cash\n",
    "        for stock in self.stocks:\n",
    "            if self.stocks[stock][0] > 0:\n",
    "                price = adj_close[stock]\n",
    "                val += price * self.stocks[stock][0]\n",
    "            else:\n",
    "                val += self.stocks[stock][0] * self.stocks[stock][1]\n",
    "                val -= self.stocks[stock][0] * adj_close[stock]\n",
    "        return val\n",
    "            \n",
    "    "
   ]
  },
  {
   "cell_type": "code",
   "execution_count": 80,
   "metadata": {},
   "outputs": [],
   "source": [
    "a = {'b': (3, 200.0)}"
   ]
  },
  {
   "cell_type": "code",
   "execution_count": 81,
   "metadata": {},
   "outputs": [
    {
     "data": {
      "text/plain": [
       "3"
      ]
     },
     "execution_count": 81,
     "metadata": {},
     "output_type": "execute_result"
    }
   ],
   "source": [
    "a['b'][0]"
   ]
  },
  {
   "cell_type": "code",
   "execution_count": 83,
   "metadata": {},
   "outputs": [
    {
     "name": "stdout",
     "output_type": "stream",
     "text": [
      "(3, 200.0)\n"
     ]
    }
   ],
   "source": [
    "for x in a:\n",
    "    print a[x]"
   ]
  },
  {
   "cell_type": "code",
   "execution_count": null,
   "metadata": {},
   "outputs": [],
   "source": []
  }
 ],
 "metadata": {
  "kernelspec": {
   "display_name": "Python 2",
   "language": "python",
   "name": "python2"
  },
  "language_info": {
   "codemirror_mode": {
    "name": "ipython",
    "version": 2
   },
   "file_extension": ".py",
   "mimetype": "text/x-python",
   "name": "python",
   "nbconvert_exporter": "python",
   "pygments_lexer": "ipython2",
   "version": "2.7.15"
  }
 },
 "nbformat": 4,
 "nbformat_minor": 2
}
