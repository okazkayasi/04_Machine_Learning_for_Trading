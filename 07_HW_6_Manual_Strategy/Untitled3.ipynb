{
 "cells": [
  {
   "cell_type": "code",
   "execution_count": 1,
   "metadata": {},
   "outputs": [],
   "source": [
    "import pandas as pd\n",
    "import numpy as np\n",
    "import datetime as dt\n",
    "from util import get_data, plot_data\n"
   ]
  },
  {
   "cell_type": "code",
   "execution_count": 8,
   "metadata": {},
   "outputs": [
    {
     "name": "stderr",
     "output_type": "stream",
     "text": [
      "/home/okazkayasi/anaconda2/lib/python2.7/site-packages/ipykernel_launcher.py:7: FutureWarning: pd.rolling_mean is deprecated for Series and will be removed in a future version, replace with \n",
      "\tSeries.rolling(window=50,center=False).mean()\n",
      "  import sys\n",
      "/home/okazkayasi/anaconda2/lib/python2.7/site-packages/ipykernel_launcher.py:8: FutureWarning: pd.rolling_mean is deprecated for Series and will be removed in a future version, replace with \n",
      "\tSeries.rolling(window=200,center=False).mean()\n",
      "  \n"
     ]
    }
   ],
   "source": [
    "end_date = \"31-12-2009\"\n",
    "start_date = \"01-01-2008\"\n",
    "stocks = [\"JPM\"]\n",
    "\n",
    "adj_close = get_data(stocks, pd.date_range(start_date, end_date))\n",
    "\n",
    "fifty = pd.rolling_mean(adj_close[\"JPM\"], window=50)\n",
    "twohund = pd.rolling_mean(adj_close[\"JPM\"], window=200)"
   ]
  },
  {
   "cell_type": "code",
   "execution_count": 9,
   "metadata": {},
   "outputs": [],
   "source": [
    "def plot_data(df, title=\"Stock prices\"):\n",
    "    # plot stock prices\n",
    "\n",
    "    ax = df.plot(title=title, fontsize=11)\n",
    "    ax.set_xlabel(\"Date\")\n",
    "    ax.set_ylabel(\"Price\")\n",
    "    plt.show() #must be called to show plots in some environmen"
   ]
  },
  {
   "cell_type": "code",
   "execution_count": null,
   "metadata": {},
   "outputs": [],
   "source": []
  }
 ],
 "metadata": {
  "kernelspec": {
   "display_name": "Python 2",
   "language": "python",
   "name": "python2"
  },
  "language_info": {
   "codemirror_mode": {
    "name": "ipython",
    "version": 2
   },
   "file_extension": ".py",
   "mimetype": "text/x-python",
   "name": "python",
   "nbconvert_exporter": "python",
   "pygments_lexer": "ipython2",
   "version": "2.7.15"
  }
 },
 "nbformat": 4,
 "nbformat_minor": 2
}
